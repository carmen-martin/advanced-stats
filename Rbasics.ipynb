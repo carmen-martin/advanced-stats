{
 "cells": [
  {
   "cell_type": "markdown",
   "id": "4a407a56",
   "metadata": {},
   "source": [
    "# R Basics"
   ]
  },
  {
   "cell_type": "markdown",
   "id": "70814b94",
   "metadata": {},
   "source": [
    "### Complex numbers"
   ]
  },
  {
   "cell_type": "code",
   "execution_count": 1,
   "id": "f3834124",
   "metadata": {},
   "outputs": [],
   "source": [
    "c <- 3 + 2i"
   ]
  },
  {
   "cell_type": "code",
   "execution_count": 2,
   "id": "271b012d",
   "metadata": {},
   "outputs": [
    {
     "name": "stdout",
     "output_type": "stream",
     "text": [
      "[1] 3+2i\n"
     ]
    }
   ],
   "source": [
    "print(c)"
   ]
  },
  {
   "cell_type": "code",
   "execution_count": 3,
   "id": "e9facceb",
   "metadata": {},
   "outputs": [
    {
     "data": {
      "text/html": [
       "3"
      ],
      "text/latex": [
       "3"
      ],
      "text/markdown": [
       "3"
      ],
      "text/plain": [
       "[1] 3"
      ]
     },
     "metadata": {},
     "output_type": "display_data"
    }
   ],
   "source": [
    "Re(c)"
   ]
  },
  {
   "cell_type": "code",
   "execution_count": 4,
   "id": "f409cc1e",
   "metadata": {},
   "outputs": [
    {
     "data": {
      "text/html": [
       "2"
      ],
      "text/latex": [
       "2"
      ],
      "text/markdown": [
       "2"
      ],
      "text/plain": [
       "[1] 2"
      ]
     },
     "metadata": {},
     "output_type": "display_data"
    }
   ],
   "source": [
    "Im(c)"
   ]
  },
  {
   "cell_type": "code",
   "execution_count": 5,
   "id": "dbae9785",
   "metadata": {},
   "outputs": [
    {
     "data": {
      "text/html": [
       "3.60555127546399"
      ],
      "text/latex": [
       "3.60555127546399"
      ],
      "text/markdown": [
       "3.60555127546399"
      ],
      "text/plain": [
       "[1] 3.605551"
      ]
     },
     "metadata": {},
     "output_type": "display_data"
    }
   ],
   "source": [
    "Mod(c)"
   ]
  },
  {
   "cell_type": "code",
   "execution_count": 6,
   "id": "4362bccf",
   "metadata": {},
   "outputs": [
    {
     "data": {
      "text/html": [
       "0.588002603547568"
      ],
      "text/latex": [
       "0.588002603547568"
      ],
      "text/markdown": [
       "0.588002603547568"
      ],
      "text/plain": [
       "[1] 0.5880026"
      ]
     },
     "metadata": {},
     "output_type": "display_data"
    }
   ],
   "source": [
    "Arg(c)"
   ]
  },
  {
   "cell_type": "code",
   "execution_count": 7,
   "id": "03b32d6d",
   "metadata": {},
   "outputs": [
    {
     "data": {
      "text/html": [
       "3-2i"
      ],
      "text/latex": [
       "3-2i"
      ],
      "text/markdown": [
       "3-2i"
      ],
      "text/plain": [
       "[1] 3-2i"
      ]
     },
     "metadata": {},
     "output_type": "display_data"
    }
   ],
   "source": [
    "Conj(c)"
   ]
  },
  {
   "cell_type": "code",
   "execution_count": 8,
   "id": "a9beb73c",
   "metadata": {},
   "outputs": [
    {
     "data": {
      "text/html": [
       "TRUE"
      ],
      "text/latex": [
       "TRUE"
      ],
      "text/markdown": [
       "TRUE"
      ],
      "text/plain": [
       "[1] TRUE"
      ]
     },
     "metadata": {},
     "output_type": "display_data"
    }
   ],
   "source": [
    "is.complex(c)"
   ]
  },
  {
   "cell_type": "code",
   "execution_count": 9,
   "id": "734dc3fd",
   "metadata": {},
   "outputs": [
    {
     "data": {
      "text/html": [
       "FALSE"
      ],
      "text/latex": [
       "FALSE"
      ],
      "text/markdown": [
       "FALSE"
      ],
      "text/plain": [
       "[1] FALSE"
      ]
     },
     "metadata": {},
     "output_type": "display_data"
    }
   ],
   "source": [
    "is.complex(Re(c))"
   ]
  },
  {
   "cell_type": "code",
   "execution_count": 10,
   "id": "0fb2fa27",
   "metadata": {},
   "outputs": [
    {
     "data": {
      "text/html": [
       "3+0i"
      ],
      "text/latex": [
       "3+0i"
      ],
      "text/markdown": [
       "3+0i"
      ],
      "text/plain": [
       "[1] 3+0i"
      ]
     },
     "metadata": {},
     "output_type": "display_data"
    }
   ],
   "source": [
    "as.complex(3)"
   ]
  },
  {
   "cell_type": "markdown",
   "id": "84682a3b",
   "metadata": {},
   "source": [
    "### Math functions"
   ]
  },
  {
   "cell_type": "code",
   "execution_count": 11,
   "id": "4fc78313",
   "metadata": {},
   "outputs": [
    {
     "name": "stdout",
     "output_type": "stream",
     "text": [
      "[1] 1.098612\n",
      "[1] 20.08554\n",
      "[1] 1.584963\n",
      "[1] 0.4771213\n",
      "[1] 1.732051\n",
      "[1] 3\n"
     ]
    }
   ],
   "source": [
    "x <- 3\n",
    "print(log(x))\n",
    "print(exp(x))\n",
    "print(log(x, 2)) # define base (if not inputed, e)\n",
    "print(log10(x))\n",
    "print(sqrt(x))\n",
    "print(abs(-x))"
   ]
  },
  {
   "cell_type": "code",
   "execution_count": 12,
   "id": "5c4a29b6",
   "metadata": {},
   "outputs": [
    {
     "data": {
      "text/html": [
       "6"
      ],
      "text/latex": [
       "6"
      ],
      "text/markdown": [
       "6"
      ],
      "text/plain": [
       "[1] 6"
      ]
     },
     "metadata": {},
     "output_type": "display_data"
    }
   ],
   "source": [
    "factorial(x)"
   ]
  },
  {
   "cell_type": "code",
   "execution_count": 13,
   "id": "bbb53936",
   "metadata": {},
   "outputs": [
    {
     "data": {
      "text/html": [
       "3"
      ],
      "text/latex": [
       "3"
      ],
      "text/markdown": [
       "3"
      ],
      "text/plain": [
       "[1] 3"
      ]
     },
     "metadata": {},
     "output_type": "display_data"
    }
   ],
   "source": [
    "floor(3.7)"
   ]
  },
  {
   "cell_type": "code",
   "execution_count": 14,
   "id": "84efea46",
   "metadata": {},
   "outputs": [
    {
     "data": {
      "text/html": [
       "4"
      ],
      "text/latex": [
       "4"
      ],
      "text/markdown": [
       "4"
      ],
      "text/plain": [
       "[1] 4"
      ]
     },
     "metadata": {},
     "output_type": "display_data"
    }
   ],
   "source": [
    "ceiling(3.7)"
   ]
  },
  {
   "cell_type": "code",
   "execution_count": 15,
   "id": "e197be53",
   "metadata": {},
   "outputs": [
    {
     "data": {
      "text/html": [
       "3"
      ],
      "text/latex": [
       "3"
      ],
      "text/markdown": [
       "3"
      ],
      "text/plain": [
       "[1] 3"
      ]
     },
     "metadata": {},
     "output_type": "display_data"
    }
   ],
   "source": [
    "trunc(3.7)"
   ]
  },
  {
   "cell_type": "code",
   "execution_count": 16,
   "id": "363112fa",
   "metadata": {},
   "outputs": [
    {
     "name": "stdout",
     "output_type": "stream",
     "text": [
      "[1] -1\n",
      "[1] 3.673819e-16\n",
      "[1] -3.67394e-16\n",
      "[1] 0.5235988\n",
      "[1] 1.818446\n",
      "[1] 1.762747\n",
      "[1] 0+0.2914568i\n"
     ]
    }
   ],
   "source": [
    "print(cos(x*pi)) # in radians\n",
    "print(sin(x*pi))\n",
    "print(tan(x*pi))\n",
    "print(asin(0.5))\n",
    "print(asinh(x))\n",
    "print(acosh(x))\n",
    "print(atanh(0.3i))"
   ]
  },
  {
   "cell_type": "code",
   "execution_count": 17,
   "id": "0eba6521",
   "metadata": {},
   "outputs": [
    {
     "data": {
      "text/html": [
       "TRUE"
      ],
      "text/latex": [
       "TRUE"
      ],
      "text/markdown": [
       "TRUE"
      ],
      "text/plain": [
       "[1] TRUE"
      ]
     },
     "metadata": {},
     "output_type": "display_data"
    },
    {
     "data": {
      "text/html": [
       "TRUE"
      ],
      "text/latex": [
       "TRUE"
      ],
      "text/markdown": [
       "TRUE"
      ],
      "text/plain": [
       "[1] TRUE"
      ]
     },
     "metadata": {},
     "output_type": "display_data"
    }
   ],
   "source": [
    "x <- 3\n",
    "3 -> y\n",
    "z = 3\n",
    "\n",
    "x==y\n",
    "z==y"
   ]
  },
  {
   "cell_type": "code",
   "execution_count": 18,
   "id": "7e0d27db",
   "metadata": {},
   "outputs": [
    {
     "data": {
      "text/html": [
       "0.5"
      ],
      "text/latex": [
       "0.5"
      ],
      "text/markdown": [
       "0.5"
      ],
      "text/plain": [
       "[1] 0.5"
      ]
     },
     "metadata": {},
     "output_type": "display_data"
    }
   ],
   "source": [
    "3.5%%3 #resto"
   ]
  },
  {
   "cell_type": "code",
   "execution_count": 19,
   "id": "0fdc92dc",
   "metadata": {},
   "outputs": [
    {
     "data": {
      "text/html": [
       "1"
      ],
      "text/latex": [
       "1"
      ],
      "text/markdown": [
       "1"
      ],
      "text/plain": [
       "[1] 1"
      ]
     },
     "metadata": {},
     "output_type": "display_data"
    }
   ],
   "source": [
    "3.5%/%3 #integer"
   ]
  },
  {
   "cell_type": "code",
   "execution_count": 20,
   "id": "e0a1f60c",
   "metadata": {},
   "outputs": [
    {
     "data": {
      "text/html": [
       "TRUE"
      ],
      "text/latex": [
       "TRUE"
      ],
      "text/markdown": [
       "TRUE"
      ],
      "text/plain": [
       "[1] TRUE"
      ]
     },
     "metadata": {},
     "output_type": "display_data"
    }
   ],
   "source": [
    "3**2 == 3^2"
   ]
  },
  {
   "cell_type": "markdown",
   "id": "40376975",
   "metadata": {},
   "source": [
    "#### Indeterminations"
   ]
  },
  {
   "cell_type": "code",
   "execution_count": 21,
   "id": "e6ce5682",
   "metadata": {},
   "outputs": [
    {
     "data": {
      "text/html": [
       "Inf"
      ],
      "text/latex": [
       "Inf"
      ],
      "text/markdown": [
       "Inf"
      ],
      "text/plain": [
       "[1] Inf"
      ]
     },
     "metadata": {},
     "output_type": "display_data"
    }
   ],
   "source": [
    "4/0"
   ]
  },
  {
   "cell_type": "code",
   "execution_count": 22,
   "id": "ff5bdbf4",
   "metadata": {},
   "outputs": [
    {
     "data": {
      "text/html": [
       "-Inf"
      ],
      "text/latex": [
       "-Inf"
      ],
      "text/markdown": [
       "-Inf"
      ],
      "text/plain": [
       "[1] -Inf"
      ]
     },
     "metadata": {},
     "output_type": "display_data"
    }
   ],
   "source": [
    "-4/0"
   ]
  },
  {
   "cell_type": "code",
   "execution_count": 23,
   "id": "943d4887",
   "metadata": {},
   "outputs": [
    {
     "name": "stdout",
     "output_type": "stream",
     "text": [
      "[1] Inf\n",
      "[1] 0\n"
     ]
    }
   ],
   "source": [
    "print(exp(Inf))\n",
    "print(exp(-Inf))"
   ]
  },
  {
   "cell_type": "code",
   "execution_count": 24,
   "id": "5c194f84",
   "metadata": {},
   "outputs": [
    {
     "data": {
      "text/html": [
       "0"
      ],
      "text/latex": [
       "0"
      ],
      "text/markdown": [
       "0"
      ],
      "text/plain": [
       "[1] 0"
      ]
     },
     "metadata": {},
     "output_type": "display_data"
    }
   ],
   "source": [
    "0/Inf"
   ]
  },
  {
   "cell_type": "code",
   "execution_count": 25,
   "id": "05f27232",
   "metadata": {},
   "outputs": [
    {
     "name": "stdout",
     "output_type": "stream",
     "text": [
      "[1] NaN\n",
      "[1] NaN\n",
      "[1] NaN\n"
     ]
    }
   ],
   "source": [
    "print(0/0)\n",
    "print(Inf-Inf)\n",
    "print(-Inf/Inf)"
   ]
  },
  {
   "cell_type": "code",
   "execution_count": 26,
   "id": "4c7b1ac7",
   "metadata": {},
   "outputs": [
    {
     "data": {
      "text/html": [
       "FALSE"
      ],
      "text/latex": [
       "FALSE"
      ],
      "text/markdown": [
       "FALSE"
      ],
      "text/plain": [
       "[1] FALSE"
      ]
     },
     "metadata": {},
     "output_type": "display_data"
    },
    {
     "data": {
      "text/html": [
       "TRUE"
      ],
      "text/latex": [
       "TRUE"
      ],
      "text/markdown": [
       "TRUE"
      ],
      "text/plain": [
       "[1] TRUE"
      ]
     },
     "metadata": {},
     "output_type": "display_data"
    },
    {
     "data": {
      "text/html": [
       "FALSE"
      ],
      "text/latex": [
       "FALSE"
      ],
      "text/markdown": [
       "FALSE"
      ],
      "text/plain": [
       "[1] FALSE"
      ]
     },
     "metadata": {},
     "output_type": "display_data"
    }
   ],
   "source": [
    "is.finite(3/0)\n",
    "is.infinite(3/0)\n",
    "is.nan(3/0)"
   ]
  },
  {
   "cell_type": "markdown",
   "id": "fb524729",
   "metadata": {},
   "source": [
    "#### Missing values - NA"
   ]
  },
  {
   "cell_type": "code",
   "execution_count": 27,
   "id": "f955e7be",
   "metadata": {},
   "outputs": [
    {
     "data": {
      "text/html": [
       "&lt;NA&gt;"
      ],
      "text/latex": [
       "<NA>"
      ],
      "text/markdown": [
       "&lt;NA&gt;"
      ],
      "text/plain": [
       "[1] NA"
      ]
     },
     "metadata": {},
     "output_type": "display_data"
    }
   ],
   "source": [
    "NA*3"
   ]
  },
  {
   "cell_type": "code",
   "execution_count": 28,
   "id": "a6a4acbe",
   "metadata": {},
   "outputs": [
    {
     "data": {
      "text/html": [
       "&lt;NA&gt;"
      ],
      "text/latex": [
       "<NA>"
      ],
      "text/markdown": [
       "&lt;NA&gt;"
      ],
      "text/plain": [
       "[1] NA"
      ]
     },
     "metadata": {},
     "output_type": "display_data"
    }
   ],
   "source": [
    "NA>0"
   ]
  },
  {
   "cell_type": "code",
   "execution_count": 29,
   "id": "4e749f1c",
   "metadata": {},
   "outputs": [
    {
     "data": {
      "text/html": [
       "1"
      ],
      "text/latex": [
       "1"
      ],
      "text/markdown": [
       "1"
      ],
      "text/plain": [
       "[1] 1"
      ]
     },
     "metadata": {},
     "output_type": "display_data"
    }
   ],
   "source": [
    "# They don't return NA in case the identity holds for all possible outputs\n",
    "NA^0"
   ]
  },
  {
   "cell_type": "code",
   "execution_count": 30,
   "id": "cbc48303",
   "metadata": {},
   "outputs": [
    {
     "data": {
      "text/html": [
       "FALSE"
      ],
      "text/latex": [
       "FALSE"
      ],
      "text/markdown": [
       "FALSE"
      ],
      "text/plain": [
       "[1] FALSE"
      ]
     },
     "metadata": {},
     "output_type": "display_data"
    }
   ],
   "source": [
    "NA & FALSE #logic AND"
   ]
  },
  {
   "cell_type": "code",
   "execution_count": 31,
   "id": "325de899",
   "metadata": {},
   "outputs": [
    {
     "data": {
      "text/html": [
       "TRUE"
      ],
      "text/latex": [
       "TRUE"
      ],
      "text/markdown": [
       "TRUE"
      ],
      "text/plain": [
       "[1] TRUE"
      ]
     },
     "metadata": {},
     "output_type": "display_data"
    }
   ],
   "source": [
    "NA | TRUE #logic OR"
   ]
  },
  {
   "cell_type": "markdown",
   "id": "f6fab42c",
   "metadata": {},
   "source": [
    "# R Data types\n",
    "\n",
    "Everything in R is an **object**"
   ]
  },
  {
   "cell_type": "markdown",
   "id": "787ec6be",
   "metadata": {},
   "source": [
    "### Vectors\n",
    "\n",
    "* **Atomic**: All elements must have the same type\n",
    "* **Lists**: elements can be different types\n",
    "* **NULL**: generic zeroth length vector"
   ]
  },
  {
   "cell_type": "markdown",
   "id": "b4d1c673",
   "metadata": {},
   "source": [
    "#### Atomic vectors\n",
    "\n",
    "Logical, double, integer, character, complex, raw (to hold raw bytes)."
   ]
  },
  {
   "cell_type": "code",
   "execution_count": 32,
   "id": "8c76264b",
   "metadata": {},
   "outputs": [],
   "source": [
    "#x <- 3\n",
    "#x <- 3L\n",
    "#x <- 'three'\n",
    "x <- 3<0"
   ]
  },
  {
   "cell_type": "code",
   "execution_count": 33,
   "id": "c349b256",
   "metadata": {},
   "outputs": [
    {
     "data": {
      "text/html": [
       "'logical'"
      ],
      "text/latex": [
       "'logical'"
      ],
      "text/markdown": [
       "'logical'"
      ],
      "text/plain": [
       "[1] \"logical\""
      ]
     },
     "metadata": {},
     "output_type": "display_data"
    }
   ],
   "source": [
    "class(x)"
   ]
  },
  {
   "cell_type": "code",
   "execution_count": 34,
   "id": "2b0301e8",
   "metadata": {},
   "outputs": [
    {
     "data": {
      "text/html": [
       "'logical'"
      ],
      "text/latex": [
       "'logical'"
      ],
      "text/markdown": [
       "'logical'"
      ],
      "text/plain": [
       "[1] \"logical\""
      ]
     },
     "metadata": {},
     "output_type": "display_data"
    }
   ],
   "source": [
    "typeof(x)"
   ]
  },
  {
   "cell_type": "code",
   "execution_count": 35,
   "id": "d838e260",
   "metadata": {},
   "outputs": [
    {
     "data": {
      "text/html": [
       "1"
      ],
      "text/latex": [
       "1"
      ],
      "text/markdown": [
       "1"
      ],
      "text/plain": [
       "[1] 1"
      ]
     },
     "metadata": {},
     "output_type": "display_data"
    }
   ],
   "source": [
    "length(x)"
   ]
  },
  {
   "cell_type": "code",
   "execution_count": 36,
   "id": "e6b3278c",
   "metadata": {},
   "outputs": [
    {
     "data": {
      "text/plain": [
       "NULL"
      ]
     },
     "metadata": {},
     "output_type": "display_data"
    }
   ],
   "source": [
    "attributes(x)"
   ]
  },
  {
   "cell_type": "code",
   "execution_count": 37,
   "id": "c41c96c0",
   "metadata": {},
   "outputs": [
    {
     "name": "stdout",
     "output_type": "stream",
     "text": [
      " logi FALSE\n"
     ]
    }
   ],
   "source": [
    "str(x)"
   ]
  },
  {
   "cell_type": "markdown",
   "id": "9682fb16",
   "metadata": {},
   "source": [
    "##### Create vectors"
   ]
  },
  {
   "cell_type": "code",
   "execution_count": 38,
   "id": "cf6dd12e",
   "metadata": {},
   "outputs": [
    {
     "data": {
      "text/html": [
       "<ol class=list-inline>\n",
       "\t<li>3</li>\n",
       "\t<li>2</li>\n",
       "\t<li>5</li>\n",
       "\t<li>8</li>\n",
       "</ol>\n"
      ],
      "text/latex": [
       "\\begin{enumerate*}\n",
       "\\item 3\n",
       "\\item 2\n",
       "\\item 5\n",
       "\\item 8\n",
       "\\end{enumerate*}\n"
      ],
      "text/markdown": [
       "1. 3\n",
       "2. 2\n",
       "3. 5\n",
       "4. 8\n",
       "\n",
       "\n"
      ],
      "text/plain": [
       "[1] 3 2 5 8"
      ]
     },
     "metadata": {},
     "output_type": "display_data"
    }
   ],
   "source": [
    "u <- c(3,2,5,8) #concatenate function\n",
    "u"
   ]
  },
  {
   "cell_type": "code",
   "execution_count": 39,
   "id": "57f289dd",
   "metadata": {},
   "outputs": [
    {
     "name": "stdout",
     "output_type": "stream",
     "text": [
      " num [1:4] 3 2 5 8\n"
     ]
    }
   ],
   "source": [
    "str(u)"
   ]
  },
  {
   "cell_type": "code",
   "execution_count": 40,
   "id": "15b6ac2e",
   "metadata": {},
   "outputs": [
    {
     "name": "stdout",
     "output_type": "stream",
     "text": [
      " num [1:9] 3 2 5 8 3 4 4 4 5\n"
     ]
    }
   ],
   "source": [
    "v <- c(u, 3, 4, c(4,4,5))\n",
    "str(v)"
   ]
  },
  {
   "cell_type": "code",
   "execution_count": 41,
   "id": "f2233b9f",
   "metadata": {},
   "outputs": [
    {
     "name": "stdout",
     "output_type": "stream",
     "text": [
      " int [1:9] -3 -2 -1 0 1 2 3 4 5\n"
     ]
    }
   ],
   "source": [
    "s <- -3:5\n",
    "str(s)"
   ]
  },
  {
   "cell_type": "code",
   "execution_count": 42,
   "id": "4fe80e23",
   "metadata": {},
   "outputs": [
    {
     "name": "stdout",
     "output_type": "stream",
     "text": [
      " num [1:17] -3 -2.5 -2 -1.5 -1 -0.5 0 0.5 1 1.5 ...\n"
     ]
    }
   ],
   "source": [
    "str(seq(-3, 5, 0.5))"
   ]
  },
  {
   "cell_type": "code",
   "execution_count": 43,
   "id": "aa07107a",
   "metadata": {},
   "outputs": [
    {
     "name": "stdout",
     "output_type": "stream",
     "text": [
      " num [1:21] 3 2.9 2.8 2.7 2.6 2.5 2.4 2.3 2.2 2.1 ...\n"
     ]
    }
   ],
   "source": [
    "str(seq(3,1,-0.1))"
   ]
  },
  {
   "cell_type": "code",
   "execution_count": 44,
   "id": "c6233dd3",
   "metadata": {},
   "outputs": [
    {
     "name": "stdout",
     "output_type": "stream",
     "text": [
      " num [1:7] 4 3.83 3.67 3.5 3.33 ...\n"
     ]
    }
   ],
   "source": [
    "str(seq(from=4, to=3, length=7))"
   ]
  },
  {
   "cell_type": "code",
   "execution_count": 45,
   "id": "d633d4a7",
   "metadata": {},
   "outputs": [
    {
     "name": "stdout",
     "output_type": "stream",
     "text": [
      "[1] 7 7 7 7 7\n"
     ]
    }
   ],
   "source": [
    "r <- rep(7, 5)\n",
    "print(r)"
   ]
  },
  {
   "cell_type": "code",
   "execution_count": 46,
   "id": "fc9b9a68",
   "metadata": {},
   "outputs": [
    {
     "data": {
      "text/html": [
       "<ol class=list-inline>\n",
       "\t<li>1</li>\n",
       "\t<li>2</li>\n",
       "\t<li>3</li>\n",
       "\t<li>4</li>\n",
       "\t<li>1</li>\n",
       "\t<li>2</li>\n",
       "\t<li>3</li>\n",
       "\t<li>4</li>\n",
       "</ol>\n"
      ],
      "text/latex": [
       "\\begin{enumerate*}\n",
       "\\item 1\n",
       "\\item 2\n",
       "\\item 3\n",
       "\\item 4\n",
       "\\item 1\n",
       "\\item 2\n",
       "\\item 3\n",
       "\\item 4\n",
       "\\end{enumerate*}\n"
      ],
      "text/markdown": [
       "1. 1\n",
       "2. 2\n",
       "3. 3\n",
       "4. 4\n",
       "5. 1\n",
       "6. 2\n",
       "7. 3\n",
       "8. 4\n",
       "\n",
       "\n"
      ],
      "text/plain": [
       "[1] 1 2 3 4 1 2 3 4"
      ]
     },
     "metadata": {},
     "output_type": "display_data"
    }
   ],
   "source": [
    "rep(1:4, 2)"
   ]
  },
  {
   "cell_type": "code",
   "execution_count": 47,
   "id": "526f0eff",
   "metadata": {},
   "outputs": [
    {
     "data": {
      "text/html": [
       "<ol class=list-inline>\n",
       "\t<li>1</li>\n",
       "\t<li>1</li>\n",
       "\t<li>2</li>\n",
       "\t<li>2</li>\n",
       "\t<li>3</li>\n",
       "\t<li>3</li>\n",
       "\t<li>4</li>\n",
       "\t<li>4</li>\n",
       "</ol>\n"
      ],
      "text/latex": [
       "\\begin{enumerate*}\n",
       "\\item 1\n",
       "\\item 1\n",
       "\\item 2\n",
       "\\item 2\n",
       "\\item 3\n",
       "\\item 3\n",
       "\\item 4\n",
       "\\item 4\n",
       "\\end{enumerate*}\n"
      ],
      "text/markdown": [
       "1. 1\n",
       "2. 1\n",
       "3. 2\n",
       "4. 2\n",
       "5. 3\n",
       "6. 3\n",
       "7. 4\n",
       "8. 4\n",
       "\n",
       "\n"
      ],
      "text/plain": [
       "[1] 1 1 2 2 3 3 4 4"
      ]
     },
     "metadata": {},
     "output_type": "display_data"
    }
   ],
   "source": [
    "rep(1:4, each=2)"
   ]
  },
  {
   "cell_type": "code",
   "execution_count": 48,
   "id": "b17c3915",
   "metadata": {},
   "outputs": [
    {
     "data": {
      "text/html": [
       "<ol class=list-inline>\n",
       "\t<li>1</li>\n",
       "\t<li>1</li>\n",
       "\t<li>2</li>\n",
       "\t<li>2</li>\n",
       "\t<li>3</li>\n",
       "\t<li>3</li>\n",
       "\t<li>4</li>\n",
       "\t<li>4</li>\n",
       "\t<li>1</li>\n",
       "\t<li>1</li>\n",
       "\t<li>2</li>\n",
       "\t<li>2</li>\n",
       "\t<li>3</li>\n",
       "\t<li>3</li>\n",
       "\t<li>4</li>\n",
       "\t<li>4</li>\n",
       "\t<li>1</li>\n",
       "\t<li>1</li>\n",
       "\t<li>2</li>\n",
       "\t<li>2</li>\n",
       "\t<li>3</li>\n",
       "\t<li>3</li>\n",
       "\t<li>4</li>\n",
       "\t<li>4</li>\n",
       "</ol>\n"
      ],
      "text/latex": [
       "\\begin{enumerate*}\n",
       "\\item 1\n",
       "\\item 1\n",
       "\\item 2\n",
       "\\item 2\n",
       "\\item 3\n",
       "\\item 3\n",
       "\\item 4\n",
       "\\item 4\n",
       "\\item 1\n",
       "\\item 1\n",
       "\\item 2\n",
       "\\item 2\n",
       "\\item 3\n",
       "\\item 3\n",
       "\\item 4\n",
       "\\item 4\n",
       "\\item 1\n",
       "\\item 1\n",
       "\\item 2\n",
       "\\item 2\n",
       "\\item 3\n",
       "\\item 3\n",
       "\\item 4\n",
       "\\item 4\n",
       "\\end{enumerate*}\n"
      ],
      "text/markdown": [
       "1. 1\n",
       "2. 1\n",
       "3. 2\n",
       "4. 2\n",
       "5. 3\n",
       "6. 3\n",
       "7. 4\n",
       "8. 4\n",
       "9. 1\n",
       "10. 1\n",
       "11. 2\n",
       "12. 2\n",
       "13. 3\n",
       "14. 3\n",
       "15. 4\n",
       "16. 4\n",
       "17. 1\n",
       "18. 1\n",
       "19. 2\n",
       "20. 2\n",
       "21. 3\n",
       "22. 3\n",
       "23. 4\n",
       "24. 4\n",
       "\n",
       "\n"
      ],
      "text/plain": [
       " [1] 1 1 2 2 3 3 4 4 1 1 2 2 3 3 4 4 1 1 2 2 3 3 4 4"
      ]
     },
     "metadata": {},
     "output_type": "display_data"
    }
   ],
   "source": [
    "rep(1:4, each=2, times=3)"
   ]
  },
  {
   "cell_type": "code",
   "execution_count": 49,
   "id": "900f2a29",
   "metadata": {},
   "outputs": [
    {
     "data": {
      "text/html": [
       "<ol class=list-inline>\n",
       "\t<li>1</li>\n",
       "\t<li>2</li>\n",
       "\t<li>2</li>\n",
       "\t<li>3</li>\n",
       "\t<li>3</li>\n",
       "\t<li>3</li>\n",
       "\t<li>4</li>\n",
       "\t<li>4</li>\n",
       "\t<li>4</li>\n",
       "\t<li>4</li>\n",
       "</ol>\n"
      ],
      "text/latex": [
       "\\begin{enumerate*}\n",
       "\\item 1\n",
       "\\item 2\n",
       "\\item 2\n",
       "\\item 3\n",
       "\\item 3\n",
       "\\item 3\n",
       "\\item 4\n",
       "\\item 4\n",
       "\\item 4\n",
       "\\item 4\n",
       "\\end{enumerate*}\n"
      ],
      "text/markdown": [
       "1. 1\n",
       "2. 2\n",
       "3. 2\n",
       "4. 3\n",
       "5. 3\n",
       "6. 3\n",
       "7. 4\n",
       "8. 4\n",
       "9. 4\n",
       "10. 4\n",
       "\n",
       "\n"
      ],
      "text/plain": [
       " [1] 1 2 2 3 3 3 4 4 4 4"
      ]
     },
     "metadata": {},
     "output_type": "display_data"
    }
   ],
   "source": [
    "rep(1:4, 1:4)"
   ]
  },
  {
   "cell_type": "code",
   "execution_count": 50,
   "id": "a70ad602",
   "metadata": {},
   "outputs": [
    {
     "data": {
      "text/html": [
       "<ol class=list-inline>\n",
       "\t<li>'love'</li>\n",
       "\t<li>'love'</li>\n",
       "\t<li>'hate'</li>\n",
       "</ol>\n"
      ],
      "text/latex": [
       "\\begin{enumerate*}\n",
       "\\item 'love'\n",
       "\\item 'love'\n",
       "\\item 'hate'\n",
       "\\end{enumerate*}\n"
      ],
      "text/markdown": [
       "1. 'love'\n",
       "2. 'love'\n",
       "3. 'hate'\n",
       "\n",
       "\n"
      ],
      "text/plain": [
       "[1] \"love\" \"love\" \"hate\""
      ]
     },
     "metadata": {},
     "output_type": "display_data"
    }
   ],
   "source": [
    "rep(c('love', 'hate', 'lust'), c(2,1,0))"
   ]
  },
  {
   "cell_type": "markdown",
   "id": "3fdf6848",
   "metadata": {},
   "source": [
    "##### Infinites"
   ]
  },
  {
   "cell_type": "code",
   "execution_count": 51,
   "id": "5e341619",
   "metadata": {},
   "outputs": [
    {
     "data": {
      "text/html": [
       "<ol class=list-inline>\n",
       "\t<li>0</li>\n",
       "\t<li>1</li>\n",
       "\t<li>Inf</li>\n",
       "\t<li>Inf</li>\n",
       "</ol>\n"
      ],
      "text/latex": [
       "\\begin{enumerate*}\n",
       "\\item 0\n",
       "\\item 1\n",
       "\\item Inf\n",
       "\\item Inf\n",
       "\\end{enumerate*}\n"
      ],
      "text/markdown": [
       "1. 0\n",
       "2. 1\n",
       "3. Inf\n",
       "4. Inf\n",
       "\n",
       "\n"
      ],
      "text/plain": [
       "[1]   0   1 Inf Inf"
      ]
     },
     "metadata": {},
     "output_type": "display_data"
    }
   ],
   "source": [
    "(0:3)^Inf"
   ]
  },
  {
   "cell_type": "code",
   "execution_count": 52,
   "id": "b6456c23",
   "metadata": {},
   "outputs": [
    {
     "data": {
      "text/html": [
       "<ol class=list-inline>\n",
       "\t<li>FALSE</li>\n",
       "\t<li>FALSE</li>\n",
       "\t<li>TRUE</li>\n",
       "</ol>\n"
      ],
      "text/latex": [
       "\\begin{enumerate*}\n",
       "\\item FALSE\n",
       "\\item FALSE\n",
       "\\item TRUE\n",
       "\\end{enumerate*}\n"
      ],
      "text/markdown": [
       "1. FALSE\n",
       "2. FALSE\n",
       "3. TRUE\n",
       "\n",
       "\n"
      ],
      "text/plain": [
       "[1] FALSE FALSE  TRUE"
      ]
     },
     "metadata": {},
     "output_type": "display_data"
    }
   ],
   "source": [
    "is.infinite(c(-4, 0/0, exp(Inf)))"
   ]
  },
  {
   "cell_type": "markdown",
   "id": "a9c5a1da",
   "metadata": {},
   "source": [
    "##### Check for NA"
   ]
  },
  {
   "cell_type": "code",
   "execution_count": 53,
   "id": "795cff02",
   "metadata": {},
   "outputs": [
    {
     "data": {
      "text/html": [
       "<ol class=list-inline>\n",
       "\t<li>FALSE</li>\n",
       "\t<li>FALSE</li>\n",
       "\t<li>TRUE</li>\n",
       "\t<li>TRUE</li>\n",
       "\t<li>FALSE</li>\n",
       "\t<li>FALSE</li>\n",
       "\t<li>FALSE</li>\n",
       "\t<li>FALSE</li>\n",
       "\t<li>TRUE</li>\n",
       "</ol>\n"
      ],
      "text/latex": [
       "\\begin{enumerate*}\n",
       "\\item FALSE\n",
       "\\item FALSE\n",
       "\\item TRUE\n",
       "\\item TRUE\n",
       "\\item FALSE\n",
       "\\item FALSE\n",
       "\\item FALSE\n",
       "\\item FALSE\n",
       "\\item TRUE\n",
       "\\end{enumerate*}\n"
      ],
      "text/markdown": [
       "1. FALSE\n",
       "2. FALSE\n",
       "3. TRUE\n",
       "4. TRUE\n",
       "5. FALSE\n",
       "6. FALSE\n",
       "7. FALSE\n",
       "8. FALSE\n",
       "9. TRUE\n",
       "\n",
       "\n"
      ],
      "text/plain": [
       "[1] FALSE FALSE  TRUE  TRUE FALSE FALSE FALSE FALSE  TRUE"
      ]
     },
     "metadata": {},
     "output_type": "display_data"
    }
   ],
   "source": [
    "u <- c(3, 2, NA, NA, 5:8, NA)\n",
    "is.na(u)"
   ]
  },
  {
   "cell_type": "code",
   "execution_count": 54,
   "id": "41f3493d",
   "metadata": {},
   "outputs": [
    {
     "data": {
      "text/html": [
       "<ol class=list-inline>\n",
       "\t<li>3</li>\n",
       "\t<li>2</li>\n",
       "\t<li>5</li>\n",
       "\t<li>6</li>\n",
       "\t<li>7</li>\n",
       "\t<li>8</li>\n",
       "</ol>\n"
      ],
      "text/latex": [
       "\\begin{enumerate*}\n",
       "\\item 3\n",
       "\\item 2\n",
       "\\item 5\n",
       "\\item 6\n",
       "\\item 7\n",
       "\\item 8\n",
       "\\end{enumerate*}\n"
      ],
      "text/markdown": [
       "1. 3\n",
       "2. 2\n",
       "3. 5\n",
       "4. 6\n",
       "5. 7\n",
       "6. 8\n",
       "\n",
       "\n"
      ],
      "text/plain": [
       "[1] 3 2 5 6 7 8"
      ]
     },
     "metadata": {},
     "output_type": "display_data"
    }
   ],
   "source": [
    "u[! is.na(u)] # does not modify unless you save it"
   ]
  },
  {
   "cell_type": "markdown",
   "id": "a499fa67",
   "metadata": {},
   "source": [
    "Some built-in functions allow for NA values to be skipped"
   ]
  },
  {
   "cell_type": "code",
   "execution_count": 55,
   "id": "f0bc85f9",
   "metadata": {},
   "outputs": [
    {
     "name": "stdout",
     "output_type": "stream",
     "text": [
      "[1] NA\n",
      "[1] 5.166667\n"
     ]
    }
   ],
   "source": [
    "print(mean(u))\n",
    "print(mean(u, na.rm=TRUE))"
   ]
  },
  {
   "cell_type": "code",
   "execution_count": 56,
   "id": "948c8dfe",
   "metadata": {},
   "outputs": [
    {
     "data": {
      "text/html": [
       "<ol class=list-inline>\n",
       "\t<li>3</li>\n",
       "\t<li>4</li>\n",
       "\t<li>9</li>\n",
       "</ol>\n"
      ],
      "text/latex": [
       "\\begin{enumerate*}\n",
       "\\item 3\n",
       "\\item 4\n",
       "\\item 9\n",
       "\\end{enumerate*}\n"
      ],
      "text/markdown": [
       "1. 3\n",
       "2. 4\n",
       "3. 9\n",
       "\n",
       "\n"
      ],
      "text/plain": [
       "[1] 3 4 9"
      ]
     },
     "metadata": {},
     "output_type": "display_data"
    }
   ],
   "source": [
    "which(is.na(u))"
   ]
  },
  {
   "cell_type": "code",
   "execution_count": 57,
   "id": "5c81194f",
   "metadata": {},
   "outputs": [
    {
     "data": {
      "text/html": [
       "<ol class=list-inline>\n",
       "\t<li>1</li>\n",
       "\t<li>2</li>\n",
       "\t<li>3</li>\n",
       "\t<li>4</li>\n",
       "\t<li>5</li>\n",
       "\t<li>6</li>\n",
       "\t<li>7</li>\n",
       "\t<li>8</li>\n",
       "\t<li>9</li>\n",
       "</ol>\n"
      ],
      "text/latex": [
       "\\begin{enumerate*}\n",
       "\\item 1\n",
       "\\item 2\n",
       "\\item 3\n",
       "\\item 4\n",
       "\\item 5\n",
       "\\item 6\n",
       "\\item 7\n",
       "\\item 8\n",
       "\\item 9\n",
       "\\end{enumerate*}\n"
      ],
      "text/markdown": [
       "1. 1\n",
       "2. 2\n",
       "3. 3\n",
       "4. 4\n",
       "5. 5\n",
       "6. 6\n",
       "7. 7\n",
       "8. 8\n",
       "9. 9\n",
       "\n",
       "\n"
      ],
      "text/plain": [
       "[1] 1 2 3 4 5 6 7 8 9"
      ]
     },
     "metadata": {},
     "output_type": "display_data"
    }
   ],
   "source": [
    "seq(along=u) # Get indices"
   ]
  },
  {
   "cell_type": "code",
   "execution_count": 58,
   "id": "f906d0b2",
   "metadata": {},
   "outputs": [
    {
     "data": {
      "text/html": [
       "<ol class=list-inline>\n",
       "\t<li>3</li>\n",
       "\t<li>4</li>\n",
       "\t<li>9</li>\n",
       "</ol>\n"
      ],
      "text/latex": [
       "\\begin{enumerate*}\n",
       "\\item 3\n",
       "\\item 4\n",
       "\\item 9\n",
       "\\end{enumerate*}\n"
      ],
      "text/markdown": [
       "1. 3\n",
       "2. 4\n",
       "3. 9\n",
       "\n",
       "\n"
      ],
      "text/plain": [
       "[1] 3 4 9"
      ]
     },
     "metadata": {},
     "output_type": "display_data"
    }
   ],
   "source": [
    "seq(along=u)[is.na(u)]"
   ]
  },
  {
   "cell_type": "markdown",
   "id": "787b3bee",
   "metadata": {},
   "source": [
    "Replace with zeros"
   ]
  },
  {
   "cell_type": "code",
   "execution_count": 59,
   "id": "bf03d9ea",
   "metadata": {},
   "outputs": [
    {
     "data": {
      "text/html": [
       "<ol class=list-inline>\n",
       "\t<li>3</li>\n",
       "\t<li>2</li>\n",
       "\t<li>0</li>\n",
       "\t<li>0</li>\n",
       "\t<li>5</li>\n",
       "\t<li>6</li>\n",
       "\t<li>7</li>\n",
       "\t<li>8</li>\n",
       "\t<li>0</li>\n",
       "</ol>\n"
      ],
      "text/latex": [
       "\\begin{enumerate*}\n",
       "\\item 3\n",
       "\\item 2\n",
       "\\item 0\n",
       "\\item 0\n",
       "\\item 5\n",
       "\\item 6\n",
       "\\item 7\n",
       "\\item 8\n",
       "\\item 0\n",
       "\\end{enumerate*}\n"
      ],
      "text/markdown": [
       "1. 3\n",
       "2. 2\n",
       "3. 0\n",
       "4. 0\n",
       "5. 5\n",
       "6. 6\n",
       "7. 7\n",
       "8. 8\n",
       "9. 0\n",
       "\n",
       "\n"
      ],
      "text/plain": [
       "[1] 3 2 0 0 5 6 7 8 0"
      ]
     },
     "metadata": {},
     "output_type": "display_data"
    }
   ],
   "source": [
    "u[is.na(u)] <- 0\n",
    "#u[which(is.na(u))] <- 0 #also works\n",
    "u"
   ]
  },
  {
   "cell_type": "code",
   "execution_count": 60,
   "id": "b0dcdfd9",
   "metadata": {},
   "outputs": [
    {
     "data": {
      "text/html": [
       "<ol class=list-inline>\n",
       "\t<li>3</li>\n",
       "\t<li>2</li>\n",
       "\t<li>0</li>\n",
       "\t<li>0</li>\n",
       "\t<li>5</li>\n",
       "\t<li>6</li>\n",
       "\t<li>7</li>\n",
       "\t<li>8</li>\n",
       "\t<li>0</li>\n",
       "</ol>\n"
      ],
      "text/latex": [
       "\\begin{enumerate*}\n",
       "\\item 3\n",
       "\\item 2\n",
       "\\item 0\n",
       "\\item 0\n",
       "\\item 5\n",
       "\\item 6\n",
       "\\item 7\n",
       "\\item 8\n",
       "\\item 0\n",
       "\\end{enumerate*}\n"
      ],
      "text/markdown": [
       "1. 3\n",
       "2. 2\n",
       "3. 0\n",
       "4. 0\n",
       "5. 5\n",
       "6. 6\n",
       "7. 7\n",
       "8. 8\n",
       "9. 0\n",
       "\n",
       "\n"
      ],
      "text/plain": [
       "[1] 3 2 0 0 5 6 7 8 0"
      ]
     },
     "metadata": {},
     "output_type": "display_data"
    }
   ],
   "source": [
    "# ifelse function\n",
    "ifelse(is.na(u), 0, u)"
   ]
  },
  {
   "cell_type": "markdown",
   "id": "d7cef66e",
   "metadata": {},
   "source": [
    "##### Easy computations"
   ]
  },
  {
   "attachments": {
    "Rfunctions.PNG": {
     "image/png": "[encoded data removed]"
    }
   },
   "cell_type": "markdown",
   "id": "4d40730b",
   "metadata": {},
   "source": [
    "![Rfunctions.PNG](attachment:Rfunctions.PNG)"
   ]
  },
  {
   "cell_type": "code",
   "execution_count": 61,
   "id": "39d1d159",
   "metadata": {},
   "outputs": [],
   "source": [
    "x <- c(4,3,2,1,4,2,8,9,9)"
   ]
  },
  {
   "cell_type": "code",
   "execution_count": 62,
   "id": "e782a7e0",
   "metadata": {},
   "outputs": [
    {
     "data": {
      "text/html": [
       "1"
      ],
      "text/latex": [
       "1"
      ],
      "text/markdown": [
       "1"
      ],
      "text/plain": [
       "[1] 1"
      ]
     },
     "metadata": {},
     "output_type": "display_data"
    },
    {
     "data": {
      "text/html": [
       "9"
      ],
      "text/latex": [
       "9"
      ],
      "text/markdown": [
       "9"
      ],
      "text/plain": [
       "[1] 9"
      ]
     },
     "metadata": {},
     "output_type": "display_data"
    },
    {
     "data": {
      "text/html": [
       "4.66666666666667"
      ],
      "text/latex": [
       "4.66666666666667"
      ],
      "text/markdown": [
       "4.66666666666667"
      ],
      "text/plain": [
       "[1] 4.666667"
      ]
     },
     "metadata": {},
     "output_type": "display_data"
    }
   ],
   "source": [
    "min(x)\n",
    "max(x)\n",
    "mean(x)"
   ]
  },
  {
   "cell_type": "code",
   "execution_count": 63,
   "id": "54ca14d5",
   "metadata": {},
   "outputs": [
    {
     "data": {
      "text/html": [
       "<ol class=list-inline>\n",
       "\t<li>4</li>\n",
       "\t<li>4</li>\n",
       "\t<li>2</li>\n",
       "</ol>\n"
      ],
      "text/latex": [
       "\\begin{enumerate*}\n",
       "\\item 4\n",
       "\\item 4\n",
       "\\item 2\n",
       "\\end{enumerate*}\n"
      ],
      "text/markdown": [
       "1. 4\n",
       "2. 4\n",
       "3. 2\n",
       "\n",
       "\n"
      ],
      "text/plain": [
       "[1] 4 4 2"
      ]
     },
     "metadata": {},
     "output_type": "display_data"
    }
   ],
   "source": [
    "# slicing\n",
    "x[c(1,5,6)]"
   ]
  },
  {
   "cell_type": "code",
   "execution_count": 64,
   "id": "72ec143e",
   "metadata": {},
   "outputs": [
    {
     "data": {
      "text/html": [
       "<ol class=list-inline>\n",
       "\t<li>1</li>\n",
       "\t<li>2</li>\n",
       "\t<li>2</li>\n",
       "\t<li>3</li>\n",
       "\t<li>4</li>\n",
       "\t<li>4</li>\n",
       "\t<li>8</li>\n",
       "\t<li>9</li>\n",
       "\t<li>9</li>\n",
       "</ol>\n"
      ],
      "text/latex": [
       "\\begin{enumerate*}\n",
       "\\item 1\n",
       "\\item 2\n",
       "\\item 2\n",
       "\\item 3\n",
       "\\item 4\n",
       "\\item 4\n",
       "\\item 8\n",
       "\\item 9\n",
       "\\item 9\n",
       "\\end{enumerate*}\n"
      ],
      "text/markdown": [
       "1. 1\n",
       "2. 2\n",
       "3. 2\n",
       "4. 3\n",
       "5. 4\n",
       "6. 4\n",
       "7. 8\n",
       "8. 9\n",
       "9. 9\n",
       "\n",
       "\n"
      ],
      "text/plain": [
       "[1] 1 2 2 3 4 4 8 9 9"
      ]
     },
     "metadata": {},
     "output_type": "display_data"
    }
   ],
   "source": [
    "sort(x)"
   ]
  },
  {
   "cell_type": "code",
   "execution_count": 65,
   "id": "932698de",
   "metadata": {},
   "outputs": [
    {
     "name": "stdout",
     "output_type": "stream",
     "text": [
      "numeric(0)\n"
     ]
    }
   ],
   "source": [
    "print(x[0]) # index starts in 1"
   ]
  },
  {
   "cell_type": "code",
   "execution_count": 66,
   "id": "c167482b",
   "metadata": {},
   "outputs": [
    {
     "name": "stdout",
     "output_type": "stream",
     "text": [
      "[1] 3 2 1 4 2 8 9 9\n",
      "[1] 4 3 1 4 2 8 9 9\n",
      "[1] 1 4 2 8 9 9\n",
      "[1] 4 3 2 1 4 2 8 9\n",
      "[1] 4 2 4 8 9\n"
     ]
    }
   ],
   "source": [
    "print(x[-1]) # slice, get rid of first value\n",
    "print(x[-3]) # slice, get rid of 3rd value\n",
    "print(x[-1:-3])\n",
    "print(x[-length(x)]) # remove last element\n",
    "print(x[seq(1,length(u),2)])"
   ]
  },
  {
   "cell_type": "code",
   "execution_count": 67,
   "id": "7f828253",
   "metadata": {},
   "outputs": [
    {
     "data": {
      "text/html": [
       "42"
      ],
      "text/latex": [
       "42"
      ],
      "text/markdown": [
       "42"
      ],
      "text/plain": [
       "[1] 42"
      ]
     },
     "metadata": {},
     "output_type": "display_data"
    }
   ],
   "source": [
    "sum(x)"
   ]
  },
  {
   "cell_type": "code",
   "execution_count": 68,
   "id": "1dcb7706",
   "metadata": {},
   "outputs": [
    {
     "data": {
      "text/html": [
       "6"
      ],
      "text/latex": [
       "6"
      ],
      "text/markdown": [
       "6"
      ],
      "text/plain": [
       "[1] 6"
      ]
     },
     "metadata": {},
     "output_type": "display_data"
    }
   ],
   "source": [
    "sum(x<=5)"
   ]
  },
  {
   "cell_type": "code",
   "execution_count": 69,
   "id": "c9582542",
   "metadata": {},
   "outputs": [
    {
     "data": {
      "text/html": [
       "<ol class=list-inline>\n",
       "\t<li>4</li>\n",
       "\t<li>7</li>\n",
       "\t<li>9</li>\n",
       "\t<li>10</li>\n",
       "\t<li>14</li>\n",
       "\t<li>16</li>\n",
       "\t<li>24</li>\n",
       "\t<li>33</li>\n",
       "\t<li>42</li>\n",
       "</ol>\n"
      ],
      "text/latex": [
       "\\begin{enumerate*}\n",
       "\\item 4\n",
       "\\item 7\n",
       "\\item 9\n",
       "\\item 10\n",
       "\\item 14\n",
       "\\item 16\n",
       "\\item 24\n",
       "\\item 33\n",
       "\\item 42\n",
       "\\end{enumerate*}\n"
      ],
      "text/markdown": [
       "1. 4\n",
       "2. 7\n",
       "3. 9\n",
       "4. 10\n",
       "5. 14\n",
       "6. 16\n",
       "7. 24\n",
       "8. 33\n",
       "9. 42\n",
       "\n",
       "\n"
      ],
      "text/plain": [
       "[1]  4  7  9 10 14 16 24 33 42"
      ]
     },
     "metadata": {},
     "output_type": "display_data"
    }
   ],
   "source": [
    "cumsum(x)"
   ]
  },
  {
   "cell_type": "code",
   "execution_count": 70,
   "id": "c47c6f06",
   "metadata": {},
   "outputs": [
    {
     "data": {
      "text/html": [
       "<ol class=list-inline>\n",
       "\t<li>1</li>\n",
       "\t<li>9</li>\n",
       "</ol>\n"
      ],
      "text/latex": [
       "\\begin{enumerate*}\n",
       "\\item 1\n",
       "\\item 9\n",
       "\\end{enumerate*}\n"
      ],
      "text/markdown": [
       "1. 1\n",
       "2. 9\n",
       "\n",
       "\n"
      ],
      "text/plain": [
       "[1] 1 9"
      ]
     },
     "metadata": {},
     "output_type": "display_data"
    }
   ],
   "source": [
    "range(x)"
   ]
  },
  {
   "cell_type": "code",
   "execution_count": 71,
   "id": "17fa8bbc",
   "metadata": {},
   "outputs": [
    {
     "data": {
      "text/html": [
       "<ol class=list-inline>\n",
       "\t<li>4</li>\n",
       "\t<li>4</li>\n",
       "\t<li>4</li>\n",
       "\t<li>4</li>\n",
       "\t<li>4</li>\n",
       "\t<li>4</li>\n",
       "\t<li>8</li>\n",
       "\t<li>9</li>\n",
       "\t<li>9</li>\n",
       "</ol>\n"
      ],
      "text/latex": [
       "\\begin{enumerate*}\n",
       "\\item 4\n",
       "\\item 4\n",
       "\\item 4\n",
       "\\item 4\n",
       "\\item 4\n",
       "\\item 4\n",
       "\\item 8\n",
       "\\item 9\n",
       "\\item 9\n",
       "\\end{enumerate*}\n"
      ],
      "text/markdown": [
       "1. 4\n",
       "2. 4\n",
       "3. 4\n",
       "4. 4\n",
       "5. 4\n",
       "6. 4\n",
       "7. 8\n",
       "8. 9\n",
       "9. 9\n",
       "\n",
       "\n"
      ],
      "text/plain": [
       "[1] 4 4 4 4 4 4 8 9 9"
      ]
     },
     "metadata": {},
     "output_type": "display_data"
    }
   ],
   "source": [
    "cummax(x)"
   ]
  },
  {
   "cell_type": "code",
   "execution_count": 72,
   "id": "8e3f7f07",
   "metadata": {},
   "outputs": [
    {
     "data": {
      "text/html": [
       "<ol class=list-inline>\n",
       "\t<li>9</li>\n",
       "\t<li>3</li>\n",
       "\t<li>5</li>\n",
       "\t<li>1</li>\n",
       "\t<li>7</li>\n",
       "\t<li>5</li>\n",
       "\t<li>8</li>\n",
       "\t<li>9</li>\n",
       "\t<li>9</li>\n",
       "</ol>\n"
      ],
      "text/latex": [
       "\\begin{enumerate*}\n",
       "\\item 9\n",
       "\\item 3\n",
       "\\item 5\n",
       "\\item 1\n",
       "\\item 7\n",
       "\\item 5\n",
       "\\item 8\n",
       "\\item 9\n",
       "\\item 9\n",
       "\\end{enumerate*}\n"
      ],
      "text/markdown": [
       "1. 9\n",
       "2. 3\n",
       "3. 5\n",
       "4. 1\n",
       "5. 7\n",
       "6. 5\n",
       "7. 8\n",
       "8. 9\n",
       "9. 9\n",
       "\n",
       "\n"
      ],
      "text/plain": [
       "[1] 9 3 5 1 7 5 8 9 9"
      ]
     },
     "metadata": {},
     "output_type": "display_data"
    }
   ],
   "source": [
    "y <- c(9,2,5,1,7,5,4,3,9)\n",
    "z <- c(9,2,2,1,5,0,1,4,1)\n",
    "pmax(x,y, z)"
   ]
  },
  {
   "cell_type": "markdown",
   "id": "4052919b",
   "metadata": {},
   "source": [
    "#### Adding attributes to vectors\n",
    "\n",
    "Matrices, arrays, factors and datetimes are created on top of vectors by adding attributes.\n",
    "\n",
    "* Attributes are name/value pairs"
   ]
  },
  {
   "cell_type": "code",
   "execution_count": 73,
   "id": "053e9429",
   "metadata": {},
   "outputs": [
    {
     "data": {
      "text/plain": [
       "NULL"
      ]
     },
     "metadata": {},
     "output_type": "display_data"
    }
   ],
   "source": [
    "counts <- c(3, 2, 1, 5, 3, 0)\n",
    "attributes(counts)"
   ]
  },
  {
   "cell_type": "code",
   "execution_count": 74,
   "id": "116209be",
   "metadata": {},
   "outputs": [
    {
     "data": {
      "text/html": [
       "<dl>\n",
       "\t<dt>$nx</dt>\n",
       "\t\t<dd>3</dd>\n",
       "\t<dt>$ny</dt>\n",
       "\t\t<dd>4</dd>\n",
       "</dl>\n"
      ],
      "text/latex": [
       "\\begin{description}\n",
       "\\item[\\$nx] 3\n",
       "\\item[\\$ny] 4\n",
       "\\end{description}\n"
      ],
      "text/markdown": [
       "$nx\n",
       ":   3\n",
       "$ny\n",
       ":   4\n",
       "\n",
       "\n"
      ],
      "text/plain": [
       "$nx\n",
       "[1] 3\n",
       "\n",
       "$ny\n",
       "[1] 4\n"
      ]
     },
     "metadata": {},
     "output_type": "display_data"
    }
   ],
   "source": [
    "attr(counts, 'nx') <- 3\n",
    "attr(counts, 'ny') <- 4\n",
    "attributes(counts)"
   ]
  },
  {
   "cell_type": "markdown",
   "id": "dc82ddc6",
   "metadata": {},
   "source": [
    "##### Names"
   ]
  },
  {
   "cell_type": "code",
   "execution_count": 75,
   "id": "12ffc5a1",
   "metadata": {},
   "outputs": [
    {
     "data": {
      "text/plain": [
       "NULL"
      ]
     },
     "metadata": {},
     "output_type": "display_data"
    }
   ],
   "source": [
    "x <- c(1,2,3)\n",
    "names(x)"
   ]
  },
  {
   "cell_type": "code",
   "execution_count": 76,
   "id": "d99194d1",
   "metadata": {},
   "outputs": [],
   "source": [
    "names(x) <- c('a', 'b', 'c')\n",
    "# x <- c(a=1, b=2, c=3)\n",
    "# x <- setNames (1:3, c(\"a\", \"b\", \"c\"))"
   ]
  },
  {
   "cell_type": "code",
   "execution_count": 77,
   "id": "5f254f91",
   "metadata": {},
   "outputs": [
    {
     "data": {
      "text/html": [
       "<ol class=list-inline>\n",
       "\t<li>'a'</li>\n",
       "\t<li>'b'</li>\n",
       "\t<li>'c'</li>\n",
       "</ol>\n"
      ],
      "text/latex": [
       "\\begin{enumerate*}\n",
       "\\item 'a'\n",
       "\\item 'b'\n",
       "\\item 'c'\n",
       "\\end{enumerate*}\n"
      ],
      "text/markdown": [
       "1. 'a'\n",
       "2. 'b'\n",
       "3. 'c'\n",
       "\n",
       "\n"
      ],
      "text/plain": [
       "[1] \"a\" \"b\" \"c\""
      ]
     },
     "metadata": {},
     "output_type": "display_data"
    }
   ],
   "source": [
    "names(x)"
   ]
  },
  {
   "cell_type": "code",
   "execution_count": 78,
   "id": "ba08bf34",
   "metadata": {},
   "outputs": [
    {
     "data": {
      "text/html": [
       "<dl class=dl-horizontal>\n",
       "\t<dt>a</dt>\n",
       "\t\t<dd>1</dd>\n",
       "\t<dt>b</dt>\n",
       "\t\t<dd>2</dd>\n",
       "\t<dt>c</dt>\n",
       "\t\t<dd>3</dd>\n",
       "</dl>\n"
      ],
      "text/latex": [
       "\\begin{description*}\n",
       "\\item[a] 1\n",
       "\\item[b] 2\n",
       "\\item[c] 3\n",
       "\\end{description*}\n"
      ],
      "text/markdown": [
       "a\n",
       ":   1b\n",
       ":   2c\n",
       ":   3\n",
       "\n"
      ],
      "text/plain": [
       "a b c \n",
       "1 2 3 "
      ]
     },
     "metadata": {},
     "output_type": "display_data"
    }
   ],
   "source": [
    "x"
   ]
  },
  {
   "cell_type": "code",
   "execution_count": 79,
   "id": "266c63c4",
   "metadata": {},
   "outputs": [
    {
     "data": {
      "text/html": [
       "<ol class=list-inline>\n",
       "\t<li>1</li>\n",
       "\t<li>2</li>\n",
       "\t<li>3</li>\n",
       "</ol>\n"
      ],
      "text/latex": [
       "\\begin{enumerate*}\n",
       "\\item 1\n",
       "\\item 2\n",
       "\\item 3\n",
       "\\end{enumerate*}\n"
      ],
      "text/markdown": [
       "1. 1\n",
       "2. 2\n",
       "3. 3\n",
       "\n",
       "\n"
      ],
      "text/plain": [
       "[1] 1 2 3"
      ]
     },
     "metadata": {},
     "output_type": "display_data"
    }
   ],
   "source": [
    "# Remove the names\n",
    "#x <- unname(x)\n",
    "names(x) <- NULL\n",
    "x"
   ]
  },
  {
   "cell_type": "code",
   "execution_count": 80,
   "id": "53fea445",
   "metadata": {},
   "outputs": [
    {
     "data": {
      "text/html": [
       "<ol class=list-inline>\n",
       "\t<li>1</li>\n",
       "\t<li>2</li>\n",
       "\t<li>3</li>\n",
       "</ol>\n"
      ],
      "text/latex": [
       "\\begin{enumerate*}\n",
       "\\item 1\n",
       "\\item 2\n",
       "\\item 3\n",
       "\\end{enumerate*}\n"
      ],
      "text/markdown": [
       "1. 1\n",
       "2. 2\n",
       "3. 3\n",
       "\n",
       "\n"
      ],
      "text/plain": [
       "[1] 1 2 3"
      ]
     },
     "metadata": {},
     "output_type": "display_data"
    }
   ],
   "source": [
    "x"
   ]
  },
  {
   "cell_type": "markdown",
   "id": "0d9c718c",
   "metadata": {},
   "source": [
    "##### Dimensions"
   ]
  },
  {
   "cell_type": "code",
   "execution_count": 81,
   "id": "9cd659a0",
   "metadata": {},
   "outputs": [
    {
     "data": {
      "text/html": [
       "'integer'"
      ],
      "text/latex": [
       "'integer'"
      ],
      "text/markdown": [
       "'integer'"
      ],
      "text/plain": [
       "[1] \"integer\""
      ]
     },
     "metadata": {},
     "output_type": "display_data"
    }
   ],
   "source": [
    "x <- c(1:20)\n",
    "class(x)"
   ]
  },
  {
   "cell_type": "code",
   "execution_count": 82,
   "id": "20521bde",
   "metadata": {},
   "outputs": [
    {
     "name": "stdout",
     "output_type": "stream",
     "text": [
      " int [1:20] 1 2 3 4 5 6 7 8 9 10 ...\n"
     ]
    }
   ],
   "source": [
    "str(x)"
   ]
  },
  {
   "cell_type": "code",
   "execution_count": 83,
   "id": "549c8534",
   "metadata": {},
   "outputs": [
    {
     "data": {
      "text/plain": [
       "NULL"
      ]
     },
     "metadata": {},
     "output_type": "display_data"
    }
   ],
   "source": [
    "# We can transfer the vector to a mtrix by modifying the dimensions\n",
    "dim(x)"
   ]
  },
  {
   "cell_type": "code",
   "execution_count": 84,
   "id": "0d1ab86e",
   "metadata": {},
   "outputs": [
    {
     "data": {
      "text/html": [
       "<table>\n",
       "<tbody>\n",
       "\t<tr><td>1 </td><td>5 </td><td> 9</td><td>13</td><td>17</td></tr>\n",
       "\t<tr><td>2 </td><td>6 </td><td>10</td><td>14</td><td>18</td></tr>\n",
       "\t<tr><td>3 </td><td>7 </td><td>11</td><td>15</td><td>19</td></tr>\n",
       "\t<tr><td>4 </td><td>8 </td><td>12</td><td>16</td><td>20</td></tr>\n",
       "</tbody>\n",
       "</table>\n"
      ],
      "text/latex": [
       "\\begin{tabular}{lllll}\n",
       "\t 1  & 5  &  9 & 13 & 17\\\\\n",
       "\t 2  & 6  & 10 & 14 & 18\\\\\n",
       "\t 3  & 7  & 11 & 15 & 19\\\\\n",
       "\t 4  & 8  & 12 & 16 & 20\\\\\n",
       "\\end{tabular}\n"
      ],
      "text/markdown": [
       "\n",
       "| 1  | 5  |  9 | 13 | 17 |\n",
       "| 2  | 6  | 10 | 14 | 18 |\n",
       "| 3  | 7  | 11 | 15 | 19 |\n",
       "| 4  | 8  | 12 | 16 | 20 |\n",
       "\n"
      ],
      "text/plain": [
       "     [,1] [,2] [,3] [,4] [,5]\n",
       "[1,] 1    5     9   13   17  \n",
       "[2,] 2    6    10   14   18  \n",
       "[3,] 3    7    11   15   19  \n",
       "[4,] 4    8    12   16   20  "
      ]
     },
     "metadata": {},
     "output_type": "display_data"
    }
   ],
   "source": [
    "dim(x) <- c(4,5)\n",
    "x"
   ]
  },
  {
   "cell_type": "code",
   "execution_count": 85,
   "id": "b5f029da",
   "metadata": {},
   "outputs": [
    {
     "data": {
      "text/html": [
       "'matrix'"
      ],
      "text/latex": [
       "'matrix'"
      ],
      "text/markdown": [
       "'matrix'"
      ],
      "text/plain": [
       "[1] \"matrix\""
      ]
     },
     "metadata": {},
     "output_type": "display_data"
    }
   ],
   "source": [
    "class(x)"
   ]
  },
  {
   "cell_type": "code",
   "execution_count": 86,
   "id": "24171518",
   "metadata": {},
   "outputs": [
    {
     "name": "stdout",
     "output_type": "stream",
     "text": [
      " int [1:4, 1:5] 1 2 3 4 5 6 7 8 9 10 ...\n"
     ]
    }
   ],
   "source": [
    "str(x)"
   ]
  },
  {
   "cell_type": "code",
   "execution_count": 87,
   "id": "caddc540",
   "metadata": {},
   "outputs": [
    {
     "data": {
      "text/html": [
       "'array'"
      ],
      "text/latex": [
       "'array'"
      ],
      "text/markdown": [
       "'array'"
      ],
      "text/plain": [
       "[1] \"array\""
      ]
     },
     "metadata": {},
     "output_type": "display_data"
    },
    {
     "name": "stdout",
     "output_type": "stream",
     "text": [
      " int [1:2, 1:5, 1:2] 1 2 3 4 5 6 7 8 9 10 ...\n"
     ]
    }
   ],
   "source": [
    "dim(x) <- c(2,5,2)\n",
    "class(x)\n",
    "str(x)"
   ]
  },
  {
   "cell_type": "markdown",
   "id": "182d5ad7",
   "metadata": {},
   "source": [
    "#### Matrices and arrays"
   ]
  },
  {
   "cell_type": "code",
   "execution_count": 88,
   "id": "46881bb5",
   "metadata": {},
   "outputs": [
    {
     "data": {
      "text/html": [
       "<table>\n",
       "<tbody>\n",
       "\t<tr><td>1 </td><td>5 </td><td> 9</td><td>13</td><td>17</td></tr>\n",
       "\t<tr><td>2 </td><td>6 </td><td>10</td><td>14</td><td>18</td></tr>\n",
       "\t<tr><td>3 </td><td>7 </td><td>11</td><td>15</td><td>19</td></tr>\n",
       "\t<tr><td>4 </td><td>8 </td><td>12</td><td>16</td><td>20</td></tr>\n",
       "</tbody>\n",
       "</table>\n"
      ],
      "text/latex": [
       "\\begin{tabular}{lllll}\n",
       "\t 1  & 5  &  9 & 13 & 17\\\\\n",
       "\t 2  & 6  & 10 & 14 & 18\\\\\n",
       "\t 3  & 7  & 11 & 15 & 19\\\\\n",
       "\t 4  & 8  & 12 & 16 & 20\\\\\n",
       "\\end{tabular}\n"
      ],
      "text/markdown": [
       "\n",
       "| 1  | 5  |  9 | 13 | 17 |\n",
       "| 2  | 6  | 10 | 14 | 18 |\n",
       "| 3  | 7  | 11 | 15 | 19 |\n",
       "| 4  | 8  | 12 | 16 | 20 |\n",
       "\n"
      ],
      "text/plain": [
       "     [,1] [,2] [,3] [,4] [,5]\n",
       "[1,] 1    5     9   13   17  \n",
       "[2,] 2    6    10   14   18  \n",
       "[3,] 3    7    11   15   19  \n",
       "[4,] 4    8    12   16   20  "
      ]
     },
     "metadata": {},
     "output_type": "display_data"
    }
   ],
   "source": [
    "x <- c(1:20)\n",
    "mtr <- matrix(x, nrow=4, ncol=5)\n",
    "mtr"
   ]
  },
  {
   "cell_type": "code",
   "execution_count": 89,
   "id": "5b9a601e",
   "metadata": {},
   "outputs": [
    {
     "data": {
      "text/html": [
       "<table>\n",
       "<tbody>\n",
       "\t<tr><td> 1</td><td> 2</td><td> 3</td><td> 4</td><td> 5</td></tr>\n",
       "\t<tr><td> 6</td><td> 7</td><td> 8</td><td> 9</td><td>10</td></tr>\n",
       "\t<tr><td>11</td><td>12</td><td>13</td><td>14</td><td>15</td></tr>\n",
       "\t<tr><td>16</td><td>17</td><td>18</td><td>19</td><td>20</td></tr>\n",
       "</tbody>\n",
       "</table>\n"
      ],
      "text/latex": [
       "\\begin{tabular}{lllll}\n",
       "\t  1 &  2 &  3 &  4 &  5\\\\\n",
       "\t  6 &  7 &  8 &  9 & 10\\\\\n",
       "\t 11 & 12 & 13 & 14 & 15\\\\\n",
       "\t 16 & 17 & 18 & 19 & 20\\\\\n",
       "\\end{tabular}\n"
      ],
      "text/markdown": [
       "\n",
       "|  1 |  2 |  3 |  4 |  5 |\n",
       "|  6 |  7 |  8 |  9 | 10 |\n",
       "| 11 | 12 | 13 | 14 | 15 |\n",
       "| 16 | 17 | 18 | 19 | 20 |\n",
       "\n"
      ],
      "text/plain": [
       "     [,1] [,2] [,3] [,4] [,5]\n",
       "[1,]  1    2    3    4    5  \n",
       "[2,]  6    7    8    9   10  \n",
       "[3,] 11   12   13   14   15  \n",
       "[4,] 16   17   18   19   20  "
      ]
     },
     "metadata": {},
     "output_type": "display_data"
    },
    {
     "data": {
      "text/html": [
       "<table>\n",
       "<tbody>\n",
       "\t<tr><td>1 </td><td>5 </td><td> 9</td><td>13</td><td>17</td></tr>\n",
       "\t<tr><td>2 </td><td>6 </td><td>10</td><td>14</td><td>18</td></tr>\n",
       "\t<tr><td>3 </td><td>7 </td><td>11</td><td>15</td><td>19</td></tr>\n",
       "\t<tr><td>4 </td><td>8 </td><td>12</td><td>16</td><td>20</td></tr>\n",
       "</tbody>\n",
       "</table>\n"
      ],
      "text/latex": [
       "\\begin{tabular}{lllll}\n",
       "\t 1  & 5  &  9 & 13 & 17\\\\\n",
       "\t 2  & 6  & 10 & 14 & 18\\\\\n",
       "\t 3  & 7  & 11 & 15 & 19\\\\\n",
       "\t 4  & 8  & 12 & 16 & 20\\\\\n",
       "\\end{tabular}\n"
      ],
      "text/markdown": [
       "\n",
       "| 1  | 5  |  9 | 13 | 17 |\n",
       "| 2  | 6  | 10 | 14 | 18 |\n",
       "| 3  | 7  | 11 | 15 | 19 |\n",
       "| 4  | 8  | 12 | 16 | 20 |\n",
       "\n"
      ],
      "text/plain": [
       "     [,1] [,2] [,3] [,4] [,5]\n",
       "[1,] 1    5     9   13   17  \n",
       "[2,] 2    6    10   14   18  \n",
       "[3,] 3    7    11   15   19  \n",
       "[4,] 4    8    12   16   20  "
      ]
     },
     "metadata": {},
     "output_type": "display_data"
    }
   ],
   "source": [
    "matrix(x, byrow=T, nrow=4)\n",
    "matrix(x, byrow=F, nrow=4)"
   ]
  },
  {
   "cell_type": "code",
   "execution_count": 90,
   "id": "58dae698",
   "metadata": {},
   "outputs": [
    {
     "data": {
      "text/html": [
       "<table>\n",
       "<tbody>\n",
       "\t<tr><td> 1</td><td> 2</td><td> 3</td><td> 4</td></tr>\n",
       "\t<tr><td> 5</td><td> 6</td><td> 7</td><td> 8</td></tr>\n",
       "\t<tr><td> 9</td><td>10</td><td>11</td><td>12</td></tr>\n",
       "\t<tr><td>13</td><td>14</td><td>15</td><td>16</td></tr>\n",
       "\t<tr><td>17</td><td>18</td><td>19</td><td>20</td></tr>\n",
       "</tbody>\n",
       "</table>\n"
      ],
      "text/latex": [
       "\\begin{tabular}{llll}\n",
       "\t  1 &  2 &  3 &  4\\\\\n",
       "\t  5 &  6 &  7 &  8\\\\\n",
       "\t  9 & 10 & 11 & 12\\\\\n",
       "\t 13 & 14 & 15 & 16\\\\\n",
       "\t 17 & 18 & 19 & 20\\\\\n",
       "\\end{tabular}\n"
      ],
      "text/markdown": [
       "\n",
       "|  1 |  2 |  3 |  4 |\n",
       "|  5 |  6 |  7 |  8 |\n",
       "|  9 | 10 | 11 | 12 |\n",
       "| 13 | 14 | 15 | 16 |\n",
       "| 17 | 18 | 19 | 20 |\n",
       "\n"
      ],
      "text/plain": [
       "     [,1] [,2] [,3] [,4]\n",
       "[1,]  1    2    3    4  \n",
       "[2,]  5    6    7    8  \n",
       "[3,]  9   10   11   12  \n",
       "[4,] 13   14   15   16  \n",
       "[5,] 17   18   19   20  "
      ]
     },
     "metadata": {},
     "output_type": "display_data"
    }
   ],
   "source": [
    "# Transpose\n",
    "mtr <- t(mtr)\n",
    "mtr"
   ]
  },
  {
   "cell_type": "code",
   "execution_count": 91,
   "id": "8760c5d5",
   "metadata": {},
   "outputs": [
    {
     "data": {
      "text/html": [
       "7"
      ],
      "text/latex": [
       "7"
      ],
      "text/markdown": [
       "7"
      ],
      "text/plain": [
       "[1] 7"
      ]
     },
     "metadata": {},
     "output_type": "display_data"
    },
    {
     "data": {
      "text/html": [
       "<ol class=list-inline>\n",
       "\t<li>10</li>\n",
       "\t<li>26</li>\n",
       "\t<li>42</li>\n",
       "\t<li>58</li>\n",
       "\t<li>74</li>\n",
       "</ol>\n"
      ],
      "text/latex": [
       "\\begin{enumerate*}\n",
       "\\item 10\n",
       "\\item 26\n",
       "\\item 42\n",
       "\\item 58\n",
       "\\item 74\n",
       "\\end{enumerate*}\n"
      ],
      "text/markdown": [
       "1. 10\n",
       "2. 26\n",
       "3. 42\n",
       "4. 58\n",
       "5. 74\n",
       "\n",
       "\n"
      ],
      "text/plain": [
       "[1] 10 26 42 58 74"
      ]
     },
     "metadata": {},
     "output_type": "display_data"
    },
    {
     "data": {
      "text/html": [
       "<ol class=list-inline>\n",
       "\t<li>2.5</li>\n",
       "\t<li>6.5</li>\n",
       "\t<li>10.5</li>\n",
       "\t<li>14.5</li>\n",
       "\t<li>18.5</li>\n",
       "</ol>\n"
      ],
      "text/latex": [
       "\\begin{enumerate*}\n",
       "\\item 2.5\n",
       "\\item 6.5\n",
       "\\item 10.5\n",
       "\\item 14.5\n",
       "\\item 18.5\n",
       "\\end{enumerate*}\n"
      ],
      "text/markdown": [
       "1. 2.5\n",
       "2. 6.5\n",
       "3. 10.5\n",
       "4. 14.5\n",
       "5. 18.5\n",
       "\n",
       "\n"
      ],
      "text/plain": [
       "[1]  2.5  6.5 10.5 14.5 18.5"
      ]
     },
     "metadata": {},
     "output_type": "display_data"
    }
   ],
   "source": [
    "mtr[2,3]\n",
    "rowSums(mtr)\n",
    "rowMeans(mtr)"
   ]
  },
  {
   "cell_type": "code",
   "execution_count": 92,
   "id": "5e52be45",
   "metadata": {},
   "outputs": [
    {
     "data": {
      "text/html": [
       "<table>\n",
       "<tbody>\n",
       "\t<tr><td> 1</td><td> 2</td><td> 3</td><td> 4</td></tr>\n",
       "\t<tr><td> 5</td><td> 6</td><td> 7</td><td> 8</td></tr>\n",
       "\t<tr><td> 9</td><td>10</td><td>11</td><td>12</td></tr>\n",
       "\t<tr><td>13</td><td>14</td><td>15</td><td>16</td></tr>\n",
       "\t<tr><td>17</td><td>18</td><td>19</td><td>20</td></tr>\n",
       "\t<tr><td> 9</td><td>10</td><td>11</td><td>12</td></tr>\n",
       "</tbody>\n",
       "</table>\n"
      ],
      "text/latex": [
       "\\begin{tabular}{llll}\n",
       "\t  1 &  2 &  3 &  4\\\\\n",
       "\t  5 &  6 &  7 &  8\\\\\n",
       "\t  9 & 10 & 11 & 12\\\\\n",
       "\t 13 & 14 & 15 & 16\\\\\n",
       "\t 17 & 18 & 19 & 20\\\\\n",
       "\t  9 & 10 & 11 & 12\\\\\n",
       "\\end{tabular}\n"
      ],
      "text/markdown": [
       "\n",
       "|  1 |  2 |  3 |  4 |\n",
       "|  5 |  6 |  7 |  8 |\n",
       "|  9 | 10 | 11 | 12 |\n",
       "| 13 | 14 | 15 | 16 |\n",
       "| 17 | 18 | 19 | 20 |\n",
       "|  9 | 10 | 11 | 12 |\n",
       "\n"
      ],
      "text/plain": [
       "     [,1] [,2] [,3] [,4]\n",
       "[1,]  1    2    3    4  \n",
       "[2,]  5    6    7    8  \n",
       "[3,]  9   10   11   12  \n",
       "[4,] 13   14   15   16  \n",
       "[5,] 17   18   19   20  \n",
       "[6,]  9   10   11   12  "
      ]
     },
     "metadata": {},
     "output_type": "display_data"
    }
   ],
   "source": [
    "mtr <- rbind(mtr, apply(mtr, 2, mean)) #add row (cbind adds column)\n",
    "mtr"
   ]
  },
  {
   "cell_type": "code",
   "execution_count": 93,
   "id": "c8e3978f",
   "metadata": {},
   "outputs": [
    {
     "data": {
      "text/html": [
       "<table>\n",
       "<tbody>\n",
       "\t<tr><th scope=row>1</th><td> 1</td><td> 2</td><td> 3</td><td> 4</td></tr>\n",
       "\t<tr><th scope=row>2</th><td> 5</td><td> 6</td><td> 7</td><td> 8</td></tr>\n",
       "\t<tr><th scope=row>3</th><td> 9</td><td>10</td><td>11</td><td>12</td></tr>\n",
       "\t<tr><th scope=row>4</th><td>13</td><td>14</td><td>15</td><td>16</td></tr>\n",
       "\t<tr><th scope=row>5</th><td>17</td><td>18</td><td>19</td><td>20</td></tr>\n",
       "\t<tr><th scope=row>mean</th><td> 9</td><td>10</td><td>11</td><td>12</td></tr>\n",
       "</tbody>\n",
       "</table>\n"
      ],
      "text/latex": [
       "\\begin{tabular}{r|llll}\n",
       "\t1 &  1 &  2 &  3 &  4\\\\\n",
       "\t2 &  5 &  6 &  7 &  8\\\\\n",
       "\t3 &  9 & 10 & 11 & 12\\\\\n",
       "\t4 & 13 & 14 & 15 & 16\\\\\n",
       "\t5 & 17 & 18 & 19 & 20\\\\\n",
       "\tmean &  9 & 10 & 11 & 12\\\\\n",
       "\\end{tabular}\n"
      ],
      "text/markdown": [
       "\n",
       "| 1 |  1 |  2 |  3 |  4 |\n",
       "| 2 |  5 |  6 |  7 |  8 |\n",
       "| 3 |  9 | 10 | 11 | 12 |\n",
       "| 4 | 13 | 14 | 15 | 16 |\n",
       "| 5 | 17 | 18 | 19 | 20 |\n",
       "| mean |  9 | 10 | 11 | 12 |\n",
       "\n"
      ],
      "text/plain": [
       "     [,1] [,2] [,3] [,4]\n",
       "1     1    2    3    4  \n",
       "2     5    6    7    8  \n",
       "3     9   10   11   12  \n",
       "4    13   14   15   16  \n",
       "5    17   18   19   20  \n",
       "mean  9   10   11   12  "
      ]
     },
     "metadata": {},
     "output_type": "display_data"
    }
   ],
   "source": [
    "rownames(mtr) <- c(1:5, 'mean')\n",
    "mtr"
   ]
  },
  {
   "cell_type": "code",
   "execution_count": 94,
   "id": "df24bf94",
   "metadata": {},
   "outputs": [
    {
     "data": {
      "text/html": [
       "<ol class=list-inline>\n",
       "\t<li>1</li>\n",
       "\t<li>2</li>\n",
       "\t<li>3</li>\n",
       "\t<li>4</li>\n",
       "\t<li>5</li>\n",
       "\t<li>6</li>\n",
       "\t<li>7</li>\n",
       "\t<li>8</li>\n",
       "\t<li>9</li>\n",
       "\t<li>10</li>\n",
       "\t<li>11</li>\n",
       "\t<li>12</li>\n",
       "\t<li>13</li>\n",
       "\t<li>14</li>\n",
       "\t<li>15</li>\n",
       "\t<li>16</li>\n",
       "\t<li>17</li>\n",
       "\t<li>18</li>\n",
       "\t<li>19</li>\n",
       "\t<li>20</li>\n",
       "</ol>\n"
      ],
      "text/latex": [
       "\\begin{enumerate*}\n",
       "\\item 1\n",
       "\\item 2\n",
       "\\item 3\n",
       "\\item 4\n",
       "\\item 5\n",
       "\\item 6\n",
       "\\item 7\n",
       "\\item 8\n",
       "\\item 9\n",
       "\\item 10\n",
       "\\item 11\n",
       "\\item 12\n",
       "\\item 13\n",
       "\\item 14\n",
       "\\item 15\n",
       "\\item 16\n",
       "\\item 17\n",
       "\\item 18\n",
       "\\item 19\n",
       "\\item 20\n",
       "\\end{enumerate*}\n"
      ],
      "text/markdown": [
       "1. 1\n",
       "2. 2\n",
       "3. 3\n",
       "4. 4\n",
       "5. 5\n",
       "6. 6\n",
       "7. 7\n",
       "8. 8\n",
       "9. 9\n",
       "10. 10\n",
       "11. 11\n",
       "12. 12\n",
       "13. 13\n",
       "14. 14\n",
       "15. 15\n",
       "16. 16\n",
       "17. 17\n",
       "18. 18\n",
       "19. 19\n",
       "20. 20\n",
       "\n",
       "\n"
      ],
      "text/plain": [
       ", , 1\n",
       "\n",
       "     [,1] [,2] [,3] [,4] [,5]\n",
       "[1,]    1    3    5    7    9\n",
       "[2,]    2    4    6    8   10\n",
       "\n",
       ", , 2\n",
       "\n",
       "     [,1] [,2] [,3] [,4] [,5]\n",
       "[1,]   11   13   15   17   19\n",
       "[2,]   12   14   16   18   20\n"
      ]
     },
     "metadata": {},
     "output_type": "display_data"
    }
   ],
   "source": [
    "array(x, c(2,5,2))"
   ]
  },
  {
   "cell_type": "markdown",
   "id": "5bfaea89",
   "metadata": {},
   "source": [
    "#### Factors\n",
    "\n",
    "* Vectors that contain only predefined values\n",
    "* Used to store categorical data"
   ]
  },
  {
   "cell_type": "code",
   "execution_count": 95,
   "id": "95ff9f51",
   "metadata": {},
   "outputs": [
    {
     "name": "stdout",
     "output_type": "stream",
     "text": [
      " Factor w/ 3 levels \"a\",\"b\",\"c\": 1 2 3 3 2\n"
     ]
    }
   ],
   "source": [
    "x <- factor(c('a', 'b', 'c', 'c', 'b'))\n",
    "str(x)"
   ]
  },
  {
   "cell_type": "code",
   "execution_count": 96,
   "id": "23c57a37",
   "metadata": {},
   "outputs": [
    {
     "data": {
      "text/html": [
       "'integer'"
      ],
      "text/latex": [
       "'integer'"
      ],
      "text/markdown": [
       "'integer'"
      ],
      "text/plain": [
       "[1] \"integer\""
      ]
     },
     "metadata": {},
     "output_type": "display_data"
    }
   ],
   "source": [
    "typeof(x)"
   ]
  },
  {
   "cell_type": "code",
   "execution_count": 97,
   "id": "c4a9e109",
   "metadata": {},
   "outputs": [
    {
     "data": {
      "text/html": [
       "<dl>\n",
       "\t<dt>$levels</dt>\n",
       "\t\t<dd><ol class=list-inline>\n",
       "\t<li>'a'</li>\n",
       "\t<li>'b'</li>\n",
       "\t<li>'c'</li>\n",
       "</ol>\n",
       "</dd>\n",
       "\t<dt>$class</dt>\n",
       "\t\t<dd>'factor'</dd>\n",
       "</dl>\n"
      ],
      "text/latex": [
       "\\begin{description}\n",
       "\\item[\\$levels] \\begin{enumerate*}\n",
       "\\item 'a'\n",
       "\\item 'b'\n",
       "\\item 'c'\n",
       "\\end{enumerate*}\n",
       "\n",
       "\\item[\\$class] 'factor'\n",
       "\\end{description}\n"
      ],
      "text/markdown": [
       "$levels\n",
       ":   1. 'a'\n",
       "2. 'b'\n",
       "3. 'c'\n",
       "\n",
       "\n",
       "\n",
       "$class\n",
       ":   'factor'\n",
       "\n",
       "\n"
      ],
      "text/plain": [
       "$levels\n",
       "[1] \"a\" \"b\" \"c\"\n",
       "\n",
       "$class\n",
       "[1] \"factor\"\n"
      ]
     },
     "metadata": {},
     "output_type": "display_data"
    }
   ],
   "source": [
    "attributes(x)"
   ]
  },
  {
   "cell_type": "code",
   "execution_count": 98,
   "id": "7dc63c09",
   "metadata": {},
   "outputs": [
    {
     "data": {
      "text/html": [
       "<ol class=list-inline>\n",
       "\t<li> East </li>\n",
       "\t<li> West </li>\n",
       "\t<li> East </li>\n",
       "\t<li> North </li>\n",
       "</ol>\n",
       "\n",
       "<details>\n",
       "\t<summary style=display:list-item;cursor:pointer>\n",
       "\t\t<strong>Levels</strong>:\n",
       "\t</summary>\n",
       "\t<ol class=list-inline>\n",
       "\t\t<li>' North '</li>\n",
       "\t\t<li>' East '</li>\n",
       "\t\t<li>' South '</li>\n",
       "\t\t<li>' West '</li>\n",
       "\t</ol>\n",
       "</details>"
      ],
      "text/latex": [
       "\\begin{enumerate*}\n",
       "\\item  East \n",
       "\\item  West \n",
       "\\item  East \n",
       "\\item  North \n",
       "\\end{enumerate*}\n",
       "\n",
       "\\emph{Levels}: \\begin{enumerate*}\n",
       "\\item ' North '\n",
       "\\item ' East '\n",
       "\\item ' South '\n",
       "\\item ' West '\n",
       "\\end{enumerate*}\n"
      ],
      "text/markdown": [
       "1.  East \n",
       "2.  West \n",
       "3.  East \n",
       "4.  North \n",
       "\n",
       "\n",
       "\n",
       "**Levels**: 1. ' North '\n",
       "2. ' East '\n",
       "3. ' South '\n",
       "4. ' West '\n",
       "\n",
       "\n"
      ],
      "text/plain": [
       "[1]  East    West    East    North \n",
       "Levels:  North   East   South   West "
      ]
     },
     "metadata": {},
     "output_type": "display_data"
    }
   ],
   "source": [
    "coord <- factor (c(\" East \", \" West \", \" East \", \" North \") ,\n",
    "                 levels = c(\" North \", \" East \", \" South \", \" West \"))\n",
    "coord"
   ]
  },
  {
   "cell_type": "code",
   "execution_count": 99,
   "id": "01c9b0a8",
   "metadata": {},
   "outputs": [
    {
     "name": "stdout",
     "output_type": "stream",
     "text": [
      " Factor w/ 4 levels \" North \",\" East \",..: 2 4 2 1\n"
     ]
    }
   ],
   "source": [
    "str(coord)"
   ]
  },
  {
   "cell_type": "code",
   "execution_count": 100,
   "id": "981c437c",
   "metadata": {},
   "outputs": [
    {
     "data": {
      "text/plain": [
       "coord\n",
       " North    East   South    West  \n",
       "      1       2       0       1 "
      ]
     },
     "metadata": {},
     "output_type": "display_data"
    }
   ],
   "source": [
    "table(coord)"
   ]
  },
  {
   "cell_type": "code",
   "execution_count": 101,
   "id": "0e6312be",
   "metadata": {
    "scrolled": true
   },
   "outputs": [
    {
     "data": {
      "text/html": [
       "<dl class=dl-horizontal>\n",
       "\t<dt> North </dt>\n",
       "\t\t<dd>1</dd>\n",
       "\t<dt> East </dt>\n",
       "\t\t<dd>2</dd>\n",
       "\t<dt> South </dt>\n",
       "\t\t<dd>0</dd>\n",
       "\t<dt> West </dt>\n",
       "\t\t<dd>1</dd>\n",
       "</dl>\n"
      ],
      "text/latex": [
       "\\begin{description*}\n",
       "\\item[ North ] 1\n",
       "\\item[ East ] 2\n",
       "\\item[ South ] 0\n",
       "\\item[ West ] 1\n",
       "\\end{description*}\n"
      ],
      "text/markdown": [
       " North \n",
       ":   1 East \n",
       ":   2 South \n",
       ":   0 West \n",
       ":   1\n",
       "\n"
      ],
      "text/plain": [
       " North    East   South    West  \n",
       "      1       2       0       1 "
      ]
     },
     "metadata": {},
     "output_type": "display_data"
    }
   ],
   "source": [
    "summary(coord)"
   ]
  },
  {
   "cell_type": "code",
   "execution_count": 102,
   "id": "df1d27d3",
   "metadata": {},
   "outputs": [
    {
     "data": {
      "image/png": "[encoded data removed]",
      "text/plain": [
       "plot without title"
      ]
     },
     "metadata": {},
     "output_type": "display_data"
    }
   ],
   "source": [
    "barplot(table(coord))"
   ]
  },
  {
   "cell_type": "markdown",
   "id": "940d3033",
   "metadata": {},
   "source": [
    "#### Ordered factors"
   ]
  },
  {
   "cell_type": "code",
   "execution_count": 103,
   "id": "80fbd047",
   "metadata": {},
   "outputs": [],
   "source": [
    "grade <- ordered(c('high', 'low', 'high'), levels=c('low', 'high'))"
   ]
  },
  {
   "cell_type": "code",
   "execution_count": 104,
   "id": "14239f68",
   "metadata": {},
   "outputs": [
    {
     "name": "stdout",
     "output_type": "stream",
     "text": [
      " Ord.factor w/ 2 levels \"low\"<\"high\": 2 1 2\n"
     ]
    }
   ],
   "source": [
    "str(grade)"
   ]
  },
  {
   "cell_type": "markdown",
   "id": "6027ebdb",
   "metadata": {},
   "source": [
    "### Dates"
   ]
  },
  {
   "cell_type": "code",
   "execution_count": 105,
   "id": "b823e38d",
   "metadata": {},
   "outputs": [],
   "source": [
    "#today <- Sys.date()\n",
    "yesterday <- as.Date('2022-07-03')"
   ]
  },
  {
   "cell_type": "code",
   "execution_count": 106,
   "id": "810229ad",
   "metadata": {},
   "outputs": [
    {
     "data": {
      "text/html": [
       "<time datetime=\"2022-07-03\">2022-07-03</time>"
      ],
      "text/latex": [
       "2022-07-03"
      ],
      "text/markdown": [
       "2022-07-03"
      ],
      "text/plain": [
       "[1] \"2022-07-03\""
      ]
     },
     "metadata": {},
     "output_type": "display_data"
    }
   ],
   "source": [
    "yesterday"
   ]
  },
  {
   "cell_type": "code",
   "execution_count": 107,
   "id": "5729810c",
   "metadata": {},
   "outputs": [
    {
     "data": {
      "text/html": [
       "'Date'"
      ],
      "text/latex": [
       "'Date'"
      ],
      "text/markdown": [
       "'Date'"
      ],
      "text/plain": [
       "[1] \"Date\""
      ]
     },
     "metadata": {},
     "output_type": "display_data"
    }
   ],
   "source": [
    "class(yesterday)"
   ]
  },
  {
   "cell_type": "code",
   "execution_count": 108,
   "id": "b548dbba",
   "metadata": {},
   "outputs": [
    {
     "data": {
      "text/html": [
       "'double'"
      ],
      "text/latex": [
       "'double'"
      ],
      "text/markdown": [
       "'double'"
      ],
      "text/plain": [
       "[1] \"double\""
      ]
     },
     "metadata": {},
     "output_type": "display_data"
    }
   ],
   "source": [
    "typeof(yesterday)"
   ]
  },
  {
   "cell_type": "code",
   "execution_count": 109,
   "id": "60ac7468",
   "metadata": {},
   "outputs": [],
   "source": [
    "today <- as.Date('2022-07-04')"
   ]
  },
  {
   "cell_type": "code",
   "execution_count": 110,
   "id": "cc666994",
   "metadata": {},
   "outputs": [
    {
     "data": {
      "text/plain": [
       "Time difference of 1 days"
      ]
     },
     "metadata": {},
     "output_type": "display_data"
    }
   ],
   "source": [
    "today - yesterday"
   ]
  },
  {
   "cell_type": "code",
   "execution_count": 111,
   "id": "1962c35f",
   "metadata": {},
   "outputs": [],
   "source": [
    "days_since_1970_01_01 <- unclass(today)"
   ]
  },
  {
   "cell_type": "code",
   "execution_count": 112,
   "id": "b5cd76ed",
   "metadata": {},
   "outputs": [
    {
     "data": {
      "text/html": [
       "19177"
      ],
      "text/latex": [
       "19177"
      ],
      "text/markdown": [
       "19177"
      ],
      "text/plain": [
       "[1] 19177"
      ]
     },
     "metadata": {},
     "output_type": "display_data"
    }
   ],
   "source": [
    "days_since_1970_01_01"
   ]
  },
  {
   "cell_type": "markdown",
   "id": "66b7f3c5",
   "metadata": {},
   "source": [
    "#### Date Time"
   ]
  },
  {
   "cell_type": "markdown",
   "id": "7426c9ec",
   "metadata": {},
   "source": [
    "###### POSIXct\n",
    "\n",
    "vectors are built on top of double vectors, and time is represented as\n",
    "seconds since 1970/01/01"
   ]
  },
  {
   "cell_type": "code",
   "execution_count": 113,
   "id": "79602980",
   "metadata": {},
   "outputs": [
    {
     "data": {
      "text/plain": [
       "[1] \"2022-07-04 15:58:11 CEST\""
      ]
     },
     "metadata": {},
     "output_type": "display_data"
    }
   ],
   "source": [
    "now_ct <- as.POSIXct(Sys.time(), tzone =\"CET\")\n",
    "now_ct"
   ]
  },
  {
   "cell_type": "code",
   "execution_count": 114,
   "id": "5cc7039f",
   "metadata": {},
   "outputs": [
    {
     "data": {
      "text/plain": [
       "Time difference of 94.16541 days"
      ]
     },
     "metadata": {},
     "output_type": "display_data"
    }
   ],
   "source": [
    "bday_ct <- as.POSIXct(\"2022-04-01 12:00\", tzone = \"CET\")\n",
    "now_ct - bday_ct"
   ]
  },
  {
   "cell_type": "code",
   "execution_count": 115,
   "id": "e8fed445",
   "metadata": {},
   "outputs": [
    {
     "data": {
      "text/plain": [
       "[1] \"2022-04-01 13:00:00 MSK\""
      ]
     },
     "metadata": {},
     "output_type": "display_data"
    },
    {
     "data": {
      "text/plain": [
       "[1] \"2022-04-01 18:00:00 CST\""
      ]
     },
     "metadata": {},
     "output_type": "display_data"
    }
   ],
   "source": [
    "structure(bday_ct, tzone='Europe/Moscow')\n",
    "structure(bday_ct, tzone='Asia/Chongqing')"
   ]
  },
  {
   "cell_type": "code",
   "execution_count": 116,
   "id": "9cd7b4d4",
   "metadata": {},
   "outputs": [
    {
     "data": {
      "text/plain": [
       "Time difference of 1 weeks"
      ]
     },
     "metadata": {},
     "output_type": "display_data"
    }
   ],
   "source": [
    "one_week <- as.difftime(1, units = 'weeks')\n",
    "one_week"
   ]
  },
  {
   "cell_type": "code",
   "execution_count": 117,
   "id": "c01de83a",
   "metadata": {},
   "outputs": [
    {
     "data": {
      "text/plain": [
       "[1] \"2022-07-11 15:58:11 CEST\""
      ]
     },
     "metadata": {},
     "output_type": "display_data"
    }
   ],
   "source": [
    "today <- Sys.time()\n",
    "next_monday <- today + one_week\n",
    "next_monday"
   ]
  },
  {
   "cell_type": "markdown",
   "id": "819ad106",
   "metadata": {},
   "source": [
    "###### POSIXlt\n",
    "\n",
    "Local time (vs ct, which is calendar time\n"
   ]
  },
  {
   "cell_type": "markdown",
   "id": "0058b353",
   "metadata": {},
   "source": [
    "#### Additional vector functions"
   ]
  },
  {
   "cell_type": "code",
   "execution_count": 118,
   "id": "4e94ce55",
   "metadata": {},
   "outputs": [
    {
     "data": {
      "text/plain": [
       "employees\n",
       "  Ana Carla Laura Marta \n",
       "    2     1     1     2 "
      ]
     },
     "metadata": {},
     "output_type": "display_data"
    }
   ],
   "source": [
    "employees <- c('Ana', 'Ana', 'Marta', 'Laura', 'Carla', 'Marta')\n",
    "table(employees)"
   ]
  },
  {
   "cell_type": "code",
   "execution_count": 119,
   "id": "7371b44b",
   "metadata": {},
   "outputs": [
    {
     "data": {
      "text/html": [
       "<ol class=list-inline>\n",
       "\t<li>'Ana'</li>\n",
       "\t<li>'Marta'</li>\n",
       "\t<li>'Laura'</li>\n",
       "\t<li>'Carla'</li>\n",
       "</ol>\n"
      ],
      "text/latex": [
       "\\begin{enumerate*}\n",
       "\\item 'Ana'\n",
       "\\item 'Marta'\n",
       "\\item 'Laura'\n",
       "\\item 'Carla'\n",
       "\\end{enumerate*}\n"
      ],
      "text/markdown": [
       "1. 'Ana'\n",
       "2. 'Marta'\n",
       "3. 'Laura'\n",
       "4. 'Carla'\n",
       "\n",
       "\n"
      ],
      "text/plain": [
       "[1] \"Ana\"   \"Marta\" \"Laura\" \"Carla\""
      ]
     },
     "metadata": {},
     "output_type": "display_data"
    }
   ],
   "source": [
    "unique(employees)"
   ]
  },
  {
   "cell_type": "code",
   "execution_count": 120,
   "id": "e464c7c7",
   "metadata": {},
   "outputs": [
    {
     "data": {
      "text/html": [
       "<ol class=list-inline>\n",
       "\t<li>FALSE</li>\n",
       "\t<li>TRUE</li>\n",
       "\t<li>FALSE</li>\n",
       "\t<li>FALSE</li>\n",
       "\t<li>FALSE</li>\n",
       "\t<li>TRUE</li>\n",
       "</ol>\n"
      ],
      "text/latex": [
       "\\begin{enumerate*}\n",
       "\\item FALSE\n",
       "\\item TRUE\n",
       "\\item FALSE\n",
       "\\item FALSE\n",
       "\\item FALSE\n",
       "\\item TRUE\n",
       "\\end{enumerate*}\n"
      ],
      "text/markdown": [
       "1. FALSE\n",
       "2. TRUE\n",
       "3. FALSE\n",
       "4. FALSE\n",
       "5. FALSE\n",
       "6. TRUE\n",
       "\n",
       "\n"
      ],
      "text/plain": [
       "[1] FALSE  TRUE FALSE FALSE FALSE  TRUE"
      ]
     },
     "metadata": {},
     "output_type": "display_data"
    }
   ],
   "source": [
    "duplicated(employees)"
   ]
  },
  {
   "cell_type": "code",
   "execution_count": 121,
   "id": "d8f67c2c",
   "metadata": {},
   "outputs": [
    {
     "data": {
      "text/html": [
       "<ol class=list-inline>\n",
       "\t<li>'Ana'</li>\n",
       "\t<li>'Marta'</li>\n",
       "\t<li>'Laura'</li>\n",
       "\t<li>'Carla'</li>\n",
       "</ol>\n"
      ],
      "text/latex": [
       "\\begin{enumerate*}\n",
       "\\item 'Ana'\n",
       "\\item 'Marta'\n",
       "\\item 'Laura'\n",
       "\\item 'Carla'\n",
       "\\end{enumerate*}\n"
      ],
      "text/markdown": [
       "1. 'Ana'\n",
       "2. 'Marta'\n",
       "3. 'Laura'\n",
       "4. 'Carla'\n",
       "\n",
       "\n"
      ],
      "text/plain": [
       "[1] \"Ana\"   \"Marta\" \"Laura\" \"Carla\""
      ]
     },
     "metadata": {},
     "output_type": "display_data"
    }
   ],
   "source": [
    "u.employees <- employees[! duplicated(employees)]\n",
    "u.employees"
   ]
  },
  {
   "cell_type": "code",
   "execution_count": 122,
   "id": "dc794f5d",
   "metadata": {},
   "outputs": [
    {
     "data": {
      "text/html": [
       "'Carla'"
      ],
      "text/latex": [
       "'Carla'"
      ],
      "text/markdown": [
       "'Carla'"
      ],
      "text/plain": [
       "[1] \"Carla\""
      ]
     },
     "metadata": {},
     "output_type": "display_data"
    }
   ],
   "source": [
    "new.employees <- c('Carmen', 'Clara', 'Carla')\n",
    "intersect(u.employees, new.employees)"
   ]
  },
  {
   "cell_type": "code",
   "execution_count": 123,
   "id": "212698ed",
   "metadata": {},
   "outputs": [
    {
     "data": {
      "text/html": [
       "<ol class=list-inline>\n",
       "\t<li>'Ana'</li>\n",
       "\t<li>'Marta'</li>\n",
       "\t<li>'Laura'</li>\n",
       "</ol>\n"
      ],
      "text/latex": [
       "\\begin{enumerate*}\n",
       "\\item 'Ana'\n",
       "\\item 'Marta'\n",
       "\\item 'Laura'\n",
       "\\end{enumerate*}\n"
      ],
      "text/markdown": [
       "1. 'Ana'\n",
       "2. 'Marta'\n",
       "3. 'Laura'\n",
       "\n",
       "\n"
      ],
      "text/plain": [
       "[1] \"Ana\"   \"Marta\" \"Laura\""
      ]
     },
     "metadata": {},
     "output_type": "display_data"
    }
   ],
   "source": [
    "setdiff(u.employees, new.employees)"
   ]
  },
  {
   "cell_type": "code",
   "execution_count": 124,
   "id": "238599a6",
   "metadata": {},
   "outputs": [
    {
     "data": {
      "text/html": [
       "FALSE"
      ],
      "text/latex": [
       "FALSE"
      ],
      "text/markdown": [
       "FALSE"
      ],
      "text/plain": [
       "[1] FALSE"
      ]
     },
     "metadata": {},
     "output_type": "display_data"
    }
   ],
   "source": [
    "setequal(u.employees, new.employees)"
   ]
  },
  {
   "cell_type": "code",
   "execution_count": 125,
   "id": "814db5e7",
   "metadata": {},
   "outputs": [
    {
     "data": {
      "text/html": [
       "<ol class=list-inline>\n",
       "\t<li>FALSE</li>\n",
       "\t<li>FALSE</li>\n",
       "\t<li>TRUE</li>\n",
       "</ol>\n"
      ],
      "text/latex": [
       "\\begin{enumerate*}\n",
       "\\item FALSE\n",
       "\\item FALSE\n",
       "\\item TRUE\n",
       "\\end{enumerate*}\n"
      ],
      "text/markdown": [
       "1. FALSE\n",
       "2. FALSE\n",
       "3. TRUE\n",
       "\n",
       "\n"
      ],
      "text/plain": [
       "[1] FALSE FALSE  TRUE"
      ]
     },
     "metadata": {},
     "output_type": "display_data"
    }
   ],
   "source": [
    "new.employees %in% u.employees"
   ]
  },
  {
   "cell_type": "code",
   "execution_count": 126,
   "id": "6f070a8b",
   "metadata": {},
   "outputs": [
    {
     "data": {
      "text/html": [
       "<ol class=list-inline>\n",
       "\t<li>'Carmen'</li>\n",
       "\t<li>'Clara'</li>\n",
       "\t<li>'Carla'</li>\n",
       "\t<li>'Ana'</li>\n",
       "\t<li>'Marta'</li>\n",
       "\t<li>'Laura'</li>\n",
       "</ol>\n"
      ],
      "text/latex": [
       "\\begin{enumerate*}\n",
       "\\item 'Carmen'\n",
       "\\item 'Clara'\n",
       "\\item 'Carla'\n",
       "\\item 'Ana'\n",
       "\\item 'Marta'\n",
       "\\item 'Laura'\n",
       "\\end{enumerate*}\n"
      ],
      "text/markdown": [
       "1. 'Carmen'\n",
       "2. 'Clara'\n",
       "3. 'Carla'\n",
       "4. 'Ana'\n",
       "5. 'Marta'\n",
       "6. 'Laura'\n",
       "\n",
       "\n"
      ],
      "text/plain": [
       "[1] \"Carmen\" \"Clara\"  \"Carla\"  \"Ana\"    \"Marta\"  \"Laura\" "
      ]
     },
     "metadata": {},
     "output_type": "display_data"
    }
   ],
   "source": [
    "union(new.employees, u.employees)"
   ]
  },
  {
   "cell_type": "markdown",
   "id": "0ebca45b",
   "metadata": {},
   "source": [
    "## Lists\n",
    "\n",
    "Lists are an evolution of atomic vectors: each element can be of any type.\n",
    " - From the technical point of view: each element of a list is of the same type as it is a reference to another R object"
   ]
  },
  {
   "cell_type": "code",
   "execution_count": 127,
   "id": "7e174deb",
   "metadata": {},
   "outputs": [
    {
     "name": "stdout",
     "output_type": "stream",
     "text": [
      "[1] \"2 , 8\"\n"
     ]
    }
   ],
   "source": [
    "# All R objects are immutable\n",
    "\n",
    "x <- c(1,2,3)\n",
    "y <- x\n",
    "y[2] <- 8\n",
    "print(paste(x[2],',', y[2]))"
   ]
  },
  {
   "cell_type": "code",
   "execution_count": 128,
   "id": "3bf73404",
   "metadata": {},
   "outputs": [
    {
     "name": "stdout",
     "output_type": "stream",
     "text": [
      "List of 5\n",
      " $ : int [1:3] 1 2 3\n",
      " $ : chr \"im tired\"\n",
      " $ : logi [1:2] TRUE FALSE\n",
      " $ : num -3\n",
      " $ : num -8\n"
     ]
    }
   ],
   "source": [
    "l1 <- list(1:3, 'im tired', c(TRUE, FALSE), -3, -8)\n",
    "str(l1)"
   ]
  },
  {
   "cell_type": "code",
   "execution_count": 129,
   "id": "1d2fed70",
   "metadata": {},
   "outputs": [
    {
     "data": {
      "text/html": [
       "<ol>\n",
       "\t<li><ol class=list-inline>\n",
       "\t<li>1</li>\n",
       "\t<li>2</li>\n",
       "\t<li>3</li>\n",
       "</ol>\n",
       "</li>\n",
       "\t<li>'im tired'</li>\n",
       "\t<li><ol class=list-inline>\n",
       "\t<li>TRUE</li>\n",
       "\t<li>FALSE</li>\n",
       "</ol>\n",
       "</li>\n",
       "\t<li>-3</li>\n",
       "\t<li>-8</li>\n",
       "</ol>\n"
      ],
      "text/latex": [
       "\\begin{enumerate}\n",
       "\\item \\begin{enumerate*}\n",
       "\\item 1\n",
       "\\item 2\n",
       "\\item 3\n",
       "\\end{enumerate*}\n",
       "\n",
       "\\item 'im tired'\n",
       "\\item \\begin{enumerate*}\n",
       "\\item TRUE\n",
       "\\item FALSE\n",
       "\\end{enumerate*}\n",
       "\n",
       "\\item -3\n",
       "\\item -8\n",
       "\\end{enumerate}\n"
      ],
      "text/markdown": [
       "1. 1. 1\n",
       "2. 2\n",
       "3. 3\n",
       "\n",
       "\n",
       "\n",
       "2. 'im tired'\n",
       "3. 1. TRUE\n",
       "2. FALSE\n",
       "\n",
       "\n",
       "\n",
       "4. -3\n",
       "5. -8\n",
       "\n",
       "\n"
      ],
      "text/plain": [
       "[[1]]\n",
       "[1] 1 2 3\n",
       "\n",
       "[[2]]\n",
       "[1] \"im tired\"\n",
       "\n",
       "[[3]]\n",
       "[1]  TRUE FALSE\n",
       "\n",
       "[[4]]\n",
       "[1] -3\n",
       "\n",
       "[[5]]\n",
       "[1] -8\n"
      ]
     },
     "metadata": {},
     "output_type": "display_data"
    }
   ],
   "source": [
    "l2 <- l1\n",
    "l2"
   ]
  },
  {
   "cell_type": "code",
   "execution_count": 130,
   "id": "4a021304",
   "metadata": {},
   "outputs": [
    {
     "data": {
      "text/html": [
       "<ol>\n",
       "\t<li><ol class=list-inline>\n",
       "\t<li>1</li>\n",
       "\t<li>2</li>\n",
       "\t<li>3</li>\n",
       "</ol>\n",
       "</li>\n",
       "\t<li>'im not tired'</li>\n",
       "\t<li><ol class=list-inline>\n",
       "\t<li>TRUE</li>\n",
       "\t<li>FALSE</li>\n",
       "</ol>\n",
       "</li>\n",
       "\t<li>-3</li>\n",
       "\t<li>-8</li>\n",
       "</ol>\n"
      ],
      "text/latex": [
       "\\begin{enumerate}\n",
       "\\item \\begin{enumerate*}\n",
       "\\item 1\n",
       "\\item 2\n",
       "\\item 3\n",
       "\\end{enumerate*}\n",
       "\n",
       "\\item 'im not tired'\n",
       "\\item \\begin{enumerate*}\n",
       "\\item TRUE\n",
       "\\item FALSE\n",
       "\\end{enumerate*}\n",
       "\n",
       "\\item -3\n",
       "\\item -8\n",
       "\\end{enumerate}\n"
      ],
      "text/markdown": [
       "1. 1. 1\n",
       "2. 2\n",
       "3. 3\n",
       "\n",
       "\n",
       "\n",
       "2. 'im not tired'\n",
       "3. 1. TRUE\n",
       "2. FALSE\n",
       "\n",
       "\n",
       "\n",
       "4. -3\n",
       "5. -8\n",
       "\n",
       "\n"
      ],
      "text/plain": [
       "[[1]]\n",
       "[1] 1 2 3\n",
       "\n",
       "[[2]]\n",
       "[1] \"im not tired\"\n",
       "\n",
       "[[3]]\n",
       "[1]  TRUE FALSE\n",
       "\n",
       "[[4]]\n",
       "[1] -3\n",
       "\n",
       "[[5]]\n",
       "[1] -8\n"
      ]
     },
     "metadata": {},
     "output_type": "display_data"
    }
   ],
   "source": [
    "l2[2] <- 'im not tired'\n",
    "l2"
   ]
  },
  {
   "cell_type": "code",
   "execution_count": 131,
   "id": "82ce4fd5",
   "metadata": {},
   "outputs": [
    {
     "data": {
      "text/html": [
       "<ol>\n",
       "\t<li><ol class=list-inline>\n",
       "\t<li>1</li>\n",
       "\t<li>2</li>\n",
       "\t<li>3</li>\n",
       "</ol>\n",
       "</li>\n",
       "\t<li>'im tired'</li>\n",
       "\t<li><ol class=list-inline>\n",
       "\t<li>TRUE</li>\n",
       "\t<li>FALSE</li>\n",
       "</ol>\n",
       "</li>\n",
       "\t<li>-3</li>\n",
       "\t<li>-8</li>\n",
       "</ol>\n"
      ],
      "text/latex": [
       "\\begin{enumerate}\n",
       "\\item \\begin{enumerate*}\n",
       "\\item 1\n",
       "\\item 2\n",
       "\\item 3\n",
       "\\end{enumerate*}\n",
       "\n",
       "\\item 'im tired'\n",
       "\\item \\begin{enumerate*}\n",
       "\\item TRUE\n",
       "\\item FALSE\n",
       "\\end{enumerate*}\n",
       "\n",
       "\\item -3\n",
       "\\item -8\n",
       "\\end{enumerate}\n"
      ],
      "text/markdown": [
       "1. 1. 1\n",
       "2. 2\n",
       "3. 3\n",
       "\n",
       "\n",
       "\n",
       "2. 'im tired'\n",
       "3. 1. TRUE\n",
       "2. FALSE\n",
       "\n",
       "\n",
       "\n",
       "4. -3\n",
       "5. -8\n",
       "\n",
       "\n"
      ],
      "text/plain": [
       "[[1]]\n",
       "[1] 1 2 3\n",
       "\n",
       "[[2]]\n",
       "[1] \"im tired\"\n",
       "\n",
       "[[3]]\n",
       "[1]  TRUE FALSE\n",
       "\n",
       "[[4]]\n",
       "[1] -3\n",
       "\n",
       "[[5]]\n",
       "[1] -8\n"
      ]
     },
     "metadata": {},
     "output_type": "display_data"
    }
   ],
   "source": [
    "l1"
   ]
  },
  {
   "cell_type": "markdown",
   "id": "39595699",
   "metadata": {},
   "source": [
    "## DataFrames"
   ]
  },
  {
   "cell_type": "code",
   "execution_count": 132,
   "id": "778105d1",
   "metadata": {},
   "outputs": [
    {
     "data": {
      "text/html": [
       "<table>\n",
       "<thead><tr><th scope=col>n</th><th scope=col>l</th></tr></thead>\n",
       "<tbody>\n",
       "\t<tr><td>1</td><td>a</td></tr>\n",
       "\t<tr><td>2</td><td>b</td></tr>\n",
       "\t<tr><td>3</td><td>c</td></tr>\n",
       "</tbody>\n",
       "</table>\n"
      ],
      "text/latex": [
       "\\begin{tabular}{r|ll}\n",
       " n & l\\\\\n",
       "\\hline\n",
       "\t 1 & a\\\\\n",
       "\t 2 & b\\\\\n",
       "\t 3 & c\\\\\n",
       "\\end{tabular}\n"
      ],
      "text/markdown": [
       "\n",
       "| n | l |\n",
       "|---|---|\n",
       "| 1 | a |\n",
       "| 2 | b |\n",
       "| 3 | c |\n",
       "\n"
      ],
      "text/plain": [
       "  n l\n",
       "1 1 a\n",
       "2 2 b\n",
       "3 3 c"
      ]
     },
     "metadata": {},
     "output_type": "display_data"
    }
   ],
   "source": [
    "df <- data.frame(n = 1:3, l = letters[1:3])\n",
    "df"
   ]
  },
  {
   "cell_type": "code",
   "execution_count": 133,
   "id": "b5265e82",
   "metadata": {},
   "outputs": [
    {
     "data": {
      "text/html": [
       "'list'"
      ],
      "text/latex": [
       "'list'"
      ],
      "text/markdown": [
       "'list'"
      ],
      "text/plain": [
       "[1] \"list\""
      ]
     },
     "metadata": {},
     "output_type": "display_data"
    },
    {
     "name": "stdout",
     "output_type": "stream",
     "text": [
      "'data.frame':\t3 obs. of  2 variables:\n",
      " $ n: int  1 2 3\n",
      " $ l: Factor w/ 3 levels \"a\",\"b\",\"c\": 1 2 3\n"
     ]
    },
    {
     "data": {
      "text/html": [
       "<dl>\n",
       "\t<dt>$names</dt>\n",
       "\t\t<dd><ol class=list-inline>\n",
       "\t<li>'n'</li>\n",
       "\t<li>'l'</li>\n",
       "</ol>\n",
       "</dd>\n",
       "\t<dt>$class</dt>\n",
       "\t\t<dd>'data.frame'</dd>\n",
       "\t<dt>$row.names</dt>\n",
       "\t\t<dd><ol class=list-inline>\n",
       "\t<li>1</li>\n",
       "\t<li>2</li>\n",
       "\t<li>3</li>\n",
       "</ol>\n",
       "</dd>\n",
       "</dl>\n"
      ],
      "text/latex": [
       "\\begin{description}\n",
       "\\item[\\$names] \\begin{enumerate*}\n",
       "\\item 'n'\n",
       "\\item 'l'\n",
       "\\end{enumerate*}\n",
       "\n",
       "\\item[\\$class] 'data.frame'\n",
       "\\item[\\$row.names] \\begin{enumerate*}\n",
       "\\item 1\n",
       "\\item 2\n",
       "\\item 3\n",
       "\\end{enumerate*}\n",
       "\n",
       "\\end{description}\n"
      ],
      "text/markdown": [
       "$names\n",
       ":   1. 'n'\n",
       "2. 'l'\n",
       "\n",
       "\n",
       "\n",
       "$class\n",
       ":   'data.frame'\n",
       "$row.names\n",
       ":   1. 1\n",
       "2. 2\n",
       "3. 3\n",
       "\n",
       "\n",
       "\n",
       "\n",
       "\n"
      ],
      "text/plain": [
       "$names\n",
       "[1] \"n\" \"l\"\n",
       "\n",
       "$class\n",
       "[1] \"data.frame\"\n",
       "\n",
       "$row.names\n",
       "[1] 1 2 3\n"
      ]
     },
     "metadata": {},
     "output_type": "display_data"
    }
   ],
   "source": [
    "typeof(df)\n",
    "str(df)\n",
    "attributes(df)"
   ]
  },
  {
   "cell_type": "code",
   "execution_count": 134,
   "id": "7c702723",
   "metadata": {},
   "outputs": [
    {
     "data": {
      "text/html": [
       "<table>\n",
       "<thead><tr><th scope=col>n</th><th scope=col>l</th></tr></thead>\n",
       "<tbody>\n",
       "\t<tr><td>1</td><td>a</td></tr>\n",
       "</tbody>\n",
       "</table>\n"
      ],
      "text/latex": [
       "\\begin{tabular}{r|ll}\n",
       " n & l\\\\\n",
       "\\hline\n",
       "\t 1 & a\\\\\n",
       "\\end{tabular}\n"
      ],
      "text/markdown": [
       "\n",
       "| n | l |\n",
       "|---|---|\n",
       "| 1 | a |\n",
       "\n"
      ],
      "text/plain": [
       "  n l\n",
       "1 1 a"
      ]
     },
     "metadata": {},
     "output_type": "display_data"
    }
   ],
   "source": [
    "head(df, n=1)"
   ]
  },
  {
   "cell_type": "code",
   "execution_count": 135,
   "id": "b1573be5",
   "metadata": {},
   "outputs": [
    {
     "data": {
      "text/html": [
       "<table>\n",
       "<thead><tr><th scope=col>student</th><th scope=col>grade</th></tr></thead>\n",
       "<tbody>\n",
       "\t<tr><td>a </td><td> 3</td></tr>\n",
       "\t<tr><td>b </td><td> 5</td></tr>\n",
       "\t<tr><td>c </td><td> 8</td></tr>\n",
       "\t<tr><td>d </td><td>10</td></tr>\n",
       "\t<tr><td>e </td><td>10</td></tr>\n",
       "\t<tr><td>f </td><td> 9</td></tr>\n",
       "\t<tr><td>g </td><td> 2</td></tr>\n",
       "\t<tr><td>h </td><td> 1</td></tr>\n",
       "\t<tr><td>i </td><td> 4</td></tr>\n",
       "\t<tr><td>j </td><td> 7</td></tr>\n",
       "</tbody>\n",
       "</table>\n"
      ],
      "text/latex": [
       "\\begin{tabular}{r|ll}\n",
       " student & grade\\\\\n",
       "\\hline\n",
       "\t a  &  3\\\\\n",
       "\t b  &  5\\\\\n",
       "\t c  &  8\\\\\n",
       "\t d  & 10\\\\\n",
       "\t e  & 10\\\\\n",
       "\t f  &  9\\\\\n",
       "\t g  &  2\\\\\n",
       "\t h  &  1\\\\\n",
       "\t i  &  4\\\\\n",
       "\t j  &  7\\\\\n",
       "\\end{tabular}\n"
      ],
      "text/markdown": [
       "\n",
       "| student | grade |\n",
       "|---|---|\n",
       "| a  |  3 |\n",
       "| b  |  5 |\n",
       "| c  |  8 |\n",
       "| d  | 10 |\n",
       "| e  | 10 |\n",
       "| f  |  9 |\n",
       "| g  |  2 |\n",
       "| h  |  1 |\n",
       "| i  |  4 |\n",
       "| j  |  7 |\n",
       "\n"
      ],
      "text/plain": [
       "   student grade\n",
       "1  a        3   \n",
       "2  b        5   \n",
       "3  c        8   \n",
       "4  d       10   \n",
       "5  e       10   \n",
       "6  f        9   \n",
       "7  g        2   \n",
       "8  h        1   \n",
       "9  i        4   \n",
       "10 j        7   "
      ]
     },
     "metadata": {},
     "output_type": "display_data"
    }
   ],
   "source": [
    "grade <- c(3, 5, 8, 10, 10, 9, 2, 1, 4, 7)\n",
    "student <- letters[1:length(grade)]\n",
    "df.class <- data.frame(student, grade)\n",
    "df.class"
   ]
  },
  {
   "cell_type": "code",
   "execution_count": 136,
   "id": "ff2e3f47",
   "metadata": {},
   "outputs": [
    {
     "data": {
      "text/html": [
       "<ol class=list-inline>\n",
       "\t<li>a</li>\n",
       "\t<li>b</li>\n",
       "\t<li>c</li>\n",
       "\t<li>d</li>\n",
       "\t<li>e</li>\n",
       "\t<li>f</li>\n",
       "\t<li>g</li>\n",
       "\t<li>h</li>\n",
       "\t<li>i</li>\n",
       "\t<li>j</li>\n",
       "</ol>\n",
       "\n",
       "<details>\n",
       "\t<summary style=display:list-item;cursor:pointer>\n",
       "\t\t<strong>Levels</strong>:\n",
       "\t</summary>\n",
       "\t<ol class=list-inline>\n",
       "\t\t<li>'a'</li>\n",
       "\t\t<li>'b'</li>\n",
       "\t\t<li>'c'</li>\n",
       "\t\t<li>'d'</li>\n",
       "\t\t<li>'e'</li>\n",
       "\t\t<li>'f'</li>\n",
       "\t\t<li>'g'</li>\n",
       "\t\t<li>'h'</li>\n",
       "\t\t<li>'i'</li>\n",
       "\t\t<li>'j'</li>\n",
       "\t</ol>\n",
       "</details>"
      ],
      "text/latex": [
       "\\begin{enumerate*}\n",
       "\\item a\n",
       "\\item b\n",
       "\\item c\n",
       "\\item d\n",
       "\\item e\n",
       "\\item f\n",
       "\\item g\n",
       "\\item h\n",
       "\\item i\n",
       "\\item j\n",
       "\\end{enumerate*}\n",
       "\n",
       "\\emph{Levels}: \\begin{enumerate*}\n",
       "\\item 'a'\n",
       "\\item 'b'\n",
       "\\item 'c'\n",
       "\\item 'd'\n",
       "\\item 'e'\n",
       "\\item 'f'\n",
       "\\item 'g'\n",
       "\\item 'h'\n",
       "\\item 'i'\n",
       "\\item 'j'\n",
       "\\end{enumerate*}\n"
      ],
      "text/markdown": [
       "1. a\n",
       "2. b\n",
       "3. c\n",
       "4. d\n",
       "5. e\n",
       "6. f\n",
       "7. g\n",
       "8. h\n",
       "9. i\n",
       "10. j\n",
       "\n",
       "\n",
       "\n",
       "**Levels**: 1. 'a'\n",
       "2. 'b'\n",
       "3. 'c'\n",
       "4. 'd'\n",
       "5. 'e'\n",
       "6. 'f'\n",
       "7. 'g'\n",
       "8. 'h'\n",
       "9. 'i'\n",
       "10. 'j'\n",
       "\n",
       "\n"
      ],
      "text/plain": [
       " [1] a b c d e f g h i j\n",
       "Levels: a b c d e f g h i j"
      ]
     },
     "metadata": {},
     "output_type": "display_data"
    }
   ],
   "source": [
    "df.class[[1]]"
   ]
  },
  {
   "cell_type": "code",
   "execution_count": 137,
   "id": "ab019c66",
   "metadata": {},
   "outputs": [
    {
     "data": {
      "text/html": [
       "<ol class=list-inline>\n",
       "\t<li>a</li>\n",
       "\t<li>b</li>\n",
       "\t<li>c</li>\n",
       "\t<li>d</li>\n",
       "\t<li>e</li>\n",
       "\t<li>f</li>\n",
       "\t<li>g</li>\n",
       "\t<li>h</li>\n",
       "\t<li>i</li>\n",
       "\t<li>j</li>\n",
       "</ol>\n",
       "\n",
       "<details>\n",
       "\t<summary style=display:list-item;cursor:pointer>\n",
       "\t\t<strong>Levels</strong>:\n",
       "\t</summary>\n",
       "\t<ol class=list-inline>\n",
       "\t\t<li>'a'</li>\n",
       "\t\t<li>'b'</li>\n",
       "\t\t<li>'c'</li>\n",
       "\t\t<li>'d'</li>\n",
       "\t\t<li>'e'</li>\n",
       "\t\t<li>'f'</li>\n",
       "\t\t<li>'g'</li>\n",
       "\t\t<li>'h'</li>\n",
       "\t\t<li>'i'</li>\n",
       "\t\t<li>'j'</li>\n",
       "\t</ol>\n",
       "</details>"
      ],
      "text/latex": [
       "\\begin{enumerate*}\n",
       "\\item a\n",
       "\\item b\n",
       "\\item c\n",
       "\\item d\n",
       "\\item e\n",
       "\\item f\n",
       "\\item g\n",
       "\\item h\n",
       "\\item i\n",
       "\\item j\n",
       "\\end{enumerate*}\n",
       "\n",
       "\\emph{Levels}: \\begin{enumerate*}\n",
       "\\item 'a'\n",
       "\\item 'b'\n",
       "\\item 'c'\n",
       "\\item 'd'\n",
       "\\item 'e'\n",
       "\\item 'f'\n",
       "\\item 'g'\n",
       "\\item 'h'\n",
       "\\item 'i'\n",
       "\\item 'j'\n",
       "\\end{enumerate*}\n"
      ],
      "text/markdown": [
       "1. a\n",
       "2. b\n",
       "3. c\n",
       "4. d\n",
       "5. e\n",
       "6. f\n",
       "7. g\n",
       "8. h\n",
       "9. i\n",
       "10. j\n",
       "\n",
       "\n",
       "\n",
       "**Levels**: 1. 'a'\n",
       "2. 'b'\n",
       "3. 'c'\n",
       "4. 'd'\n",
       "5. 'e'\n",
       "6. 'f'\n",
       "7. 'g'\n",
       "8. 'h'\n",
       "9. 'i'\n",
       "10. 'j'\n",
       "\n",
       "\n"
      ],
      "text/plain": [
       " [1] a b c d e f g h i j\n",
       "Levels: a b c d e f g h i j"
      ]
     },
     "metadata": {},
     "output_type": "display_data"
    }
   ],
   "source": [
    "df.class$student"
   ]
  },
  {
   "cell_type": "code",
   "execution_count": 138,
   "id": "e61deab7",
   "metadata": {},
   "outputs": [
    {
     "data": {
      "text/html": [
       "<table>\n",
       "<thead><tr><th></th><th scope=col>student</th><th scope=col>grade</th></tr></thead>\n",
       "<tbody>\n",
       "\t<tr><th scope=row>3</th><td>c</td><td>8</td></tr>\n",
       "</tbody>\n",
       "</table>\n"
      ],
      "text/latex": [
       "\\begin{tabular}{r|ll}\n",
       "  & student & grade\\\\\n",
       "\\hline\n",
       "\t3 & c & 8\\\\\n",
       "\\end{tabular}\n"
      ],
      "text/markdown": [
       "\n",
       "| <!--/--> | student | grade |\n",
       "|---|---|---|\n",
       "| 3 | c | 8 |\n",
       "\n"
      ],
      "text/plain": [
       "  student grade\n",
       "3 c       8    "
      ]
     },
     "metadata": {},
     "output_type": "display_data"
    },
    {
     "data": {
      "text/html": [
       "8"
      ],
      "text/latex": [
       "8"
      ],
      "text/markdown": [
       "8"
      ],
      "text/plain": [
       "[1] 8"
      ]
     },
     "metadata": {},
     "output_type": "display_data"
    }
   ],
   "source": [
    "df.class[3,]\n",
    "df.class[3,2]"
   ]
  },
  {
   "cell_type": "code",
   "execution_count": 139,
   "id": "322d00eb",
   "metadata": {},
   "outputs": [
    {
     "data": {
      "text/html": [
       "<table>\n",
       "<thead><tr><th scope=col>student</th><th scope=col>grade</th></tr></thead>\n",
       "<tbody>\n",
       "\t<tr><td>a</td><td>3</td></tr>\n",
       "\t<tr><td>b</td><td>5</td></tr>\n",
       "\t<tr><td>c</td><td>8</td></tr>\n",
       "</tbody>\n",
       "</table>\n"
      ],
      "text/latex": [
       "\\begin{tabular}{r|ll}\n",
       " student & grade\\\\\n",
       "\\hline\n",
       "\t a & 3\\\\\n",
       "\t b & 5\\\\\n",
       "\t c & 8\\\\\n",
       "\\end{tabular}\n"
      ],
      "text/markdown": [
       "\n",
       "| student | grade |\n",
       "|---|---|\n",
       "| a | 3 |\n",
       "| b | 5 |\n",
       "| c | 8 |\n",
       "\n"
      ],
      "text/plain": [
       "  student grade\n",
       "1 a       3    \n",
       "2 b       5    \n",
       "3 c       8    "
      ]
     },
     "metadata": {},
     "output_type": "display_data"
    },
    {
     "data": {
      "text/html": [
       "<table>\n",
       "<thead><tr><th scope=col>student</th><th scope=col>grade</th></tr></thead>\n",
       "<tbody>\n",
       "\t<tr><td>a</td><td>3</td></tr>\n",
       "\t<tr><td>b</td><td>5</td></tr>\n",
       "\t<tr><td>c</td><td>8</td></tr>\n",
       "</tbody>\n",
       "</table>\n"
      ],
      "text/latex": [
       "\\begin{tabular}{r|ll}\n",
       " student & grade\\\\\n",
       "\\hline\n",
       "\t a & 3\\\\\n",
       "\t b & 5\\\\\n",
       "\t c & 8\\\\\n",
       "\\end{tabular}\n"
      ],
      "text/markdown": [
       "\n",
       "| student | grade |\n",
       "|---|---|\n",
       "| a | 3 |\n",
       "| b | 5 |\n",
       "| c | 8 |\n",
       "\n"
      ],
      "text/plain": [
       "  student grade\n",
       "1 a       3    \n",
       "2 b       5    \n",
       "3 c       8    "
      ]
     },
     "metadata": {},
     "output_type": "display_data"
    }
   ],
   "source": [
    "df.class[1:3,]\n",
    "df.class[-(4:length(df.class$student)),]"
   ]
  },
  {
   "cell_type": "code",
   "execution_count": 140,
   "id": "c368d468",
   "metadata": {},
   "outputs": [
    {
     "data": {
      "text/html": [
       "<table>\n",
       "<thead><tr><th></th><th scope=col>student</th><th scope=col>grade</th></tr></thead>\n",
       "<tbody>\n",
       "\t<tr><th scope=row>3</th><td>c</td><td>8</td></tr>\n",
       "\t<tr><th scope=row>6</th><td>f</td><td>9</td></tr>\n",
       "\t<tr><th scope=row>8</th><td>h</td><td>1</td></tr>\n",
       "</tbody>\n",
       "</table>\n"
      ],
      "text/latex": [
       "\\begin{tabular}{r|ll}\n",
       "  & student & grade\\\\\n",
       "\\hline\n",
       "\t3 & c & 8\\\\\n",
       "\t6 & f & 9\\\\\n",
       "\t8 & h & 1\\\\\n",
       "\\end{tabular}\n"
      ],
      "text/markdown": [
       "\n",
       "| <!--/--> | student | grade |\n",
       "|---|---|---|\n",
       "| 3 | c | 8 |\n",
       "| 6 | f | 9 |\n",
       "| 8 | h | 1 |\n",
       "\n"
      ],
      "text/plain": [
       "  student grade\n",
       "3 c       8    \n",
       "6 f       9    \n",
       "8 h       1    "
      ]
     },
     "metadata": {},
     "output_type": "display_data"
    }
   ],
   "source": [
    "# Sample at random\n",
    "df.class[sample(1:length(df.class$student), 3),]"
   ]
  },
  {
   "cell_type": "code",
   "execution_count": 141,
   "id": "1a00fab9",
   "metadata": {},
   "outputs": [
    {
     "data": {
      "text/html": [
       "<ol class=list-inline>\n",
       "\t<li>3</li>\n",
       "\t<li>5</li>\n",
       "\t<li>8</li>\n",
       "\t<li>10</li>\n",
       "\t<li>10</li>\n",
       "\t<li>9</li>\n",
       "\t<li>2</li>\n",
       "\t<li>1</li>\n",
       "\t<li>4</li>\n",
       "\t<li>7</li>\n",
       "</ol>\n"
      ],
      "text/latex": [
       "\\begin{enumerate*}\n",
       "\\item 3\n",
       "\\item 5\n",
       "\\item 8\n",
       "\\item 10\n",
       "\\item 10\n",
       "\\item 9\n",
       "\\item 2\n",
       "\\item 1\n",
       "\\item 4\n",
       "\\item 7\n",
       "\\end{enumerate*}\n"
      ],
      "text/markdown": [
       "1. 3\n",
       "2. 5\n",
       "3. 8\n",
       "4. 10\n",
       "5. 10\n",
       "6. 9\n",
       "7. 2\n",
       "8. 1\n",
       "9. 4\n",
       "10. 7\n",
       "\n",
       "\n"
      ],
      "text/plain": [
       " [1]  3  5  8 10 10  9  2  1  4  7"
      ]
     },
     "metadata": {},
     "output_type": "display_data"
    },
    {
     "data": {
      "text/html": [
       "<ol class=list-inline>\n",
       "\t<li>a</li>\n",
       "\t<li>b</li>\n",
       "\t<li>c</li>\n",
       "\t<li>d</li>\n",
       "\t<li>e</li>\n",
       "\t<li>f</li>\n",
       "\t<li>g</li>\n",
       "\t<li>h</li>\n",
       "\t<li>i</li>\n",
       "\t<li>j</li>\n",
       "</ol>\n",
       "\n",
       "<details>\n",
       "\t<summary style=display:list-item;cursor:pointer>\n",
       "\t\t<strong>Levels</strong>:\n",
       "\t</summary>\n",
       "\t<ol class=list-inline>\n",
       "\t\t<li>'a'</li>\n",
       "\t\t<li>'b'</li>\n",
       "\t\t<li>'c'</li>\n",
       "\t\t<li>'d'</li>\n",
       "\t\t<li>'e'</li>\n",
       "\t\t<li>'f'</li>\n",
       "\t\t<li>'g'</li>\n",
       "\t\t<li>'h'</li>\n",
       "\t\t<li>'i'</li>\n",
       "\t\t<li>'j'</li>\n",
       "\t</ol>\n",
       "</details>"
      ],
      "text/latex": [
       "\\begin{enumerate*}\n",
       "\\item a\n",
       "\\item b\n",
       "\\item c\n",
       "\\item d\n",
       "\\item e\n",
       "\\item f\n",
       "\\item g\n",
       "\\item h\n",
       "\\item i\n",
       "\\item j\n",
       "\\end{enumerate*}\n",
       "\n",
       "\\emph{Levels}: \\begin{enumerate*}\n",
       "\\item 'a'\n",
       "\\item 'b'\n",
       "\\item 'c'\n",
       "\\item 'd'\n",
       "\\item 'e'\n",
       "\\item 'f'\n",
       "\\item 'g'\n",
       "\\item 'h'\n",
       "\\item 'i'\n",
       "\\item 'j'\n",
       "\\end{enumerate*}\n"
      ],
      "text/markdown": [
       "1. a\n",
       "2. b\n",
       "3. c\n",
       "4. d\n",
       "5. e\n",
       "6. f\n",
       "7. g\n",
       "8. h\n",
       "9. i\n",
       "10. j\n",
       "\n",
       "\n",
       "\n",
       "**Levels**: 1. 'a'\n",
       "2. 'b'\n",
       "3. 'c'\n",
       "4. 'd'\n",
       "5. 'e'\n",
       "6. 'f'\n",
       "7. 'g'\n",
       "8. 'h'\n",
       "9. 'i'\n",
       "10. 'j'\n",
       "\n",
       "\n"
      ],
      "text/plain": [
       " [1] a b c d e f g h i j\n",
       "Levels: a b c d e f g h i j"
      ]
     },
     "metadata": {},
     "output_type": "display_data"
    }
   ],
   "source": [
    "# Extract numeric columns\n",
    "df.class[, sapply(df.class, is.numeric)]\n",
    "# Extract factors\n",
    "df.class[, sapply(df.class, is.factor)]"
   ]
  },
  {
   "attachments": {
    "df%20selection.PNG": {
     "image/png": "[encoded data removed]"
    }
   },
   "cell_type": "markdown",
   "id": "a10cbfec",
   "metadata": {},
   "source": [
    "![df%20selection.PNG](attachment:df%20selection.PNG)"
   ]
  },
  {
   "cell_type": "markdown",
   "id": "c992c0da",
   "metadata": {},
   "source": [
    "## Named vectors"
   ]
  },
  {
   "cell_type": "code",
   "execution_count": 142,
   "id": "7bee4cc3",
   "metadata": {},
   "outputs": [
    {
     "data": {
      "text/html": [
       "<dl class=dl-horizontal>\n",
       "\t<dt>A</dt>\n",
       "\t\t<dd>1</dd>\n",
       "\t<dt>B</dt>\n",
       "\t\t<dd>3</dd>\n",
       "\t<dt>C</dt>\n",
       "\t\t<dd>5</dd>\n",
       "\t<dt>D</dt>\n",
       "\t\t<dd>7</dd>\n",
       "</dl>\n"
      ],
      "text/latex": [
       "\\begin{description*}\n",
       "\\item[A] 1\n",
       "\\item[B] 3\n",
       "\\item[C] 5\n",
       "\\item[D] 7\n",
       "\\end{description*}\n"
      ],
      "text/markdown": [
       "A\n",
       ":   1B\n",
       ":   3C\n",
       ":   5D\n",
       ":   7\n",
       "\n"
      ],
      "text/plain": [
       "A B C D \n",
       "1 3 5 7 "
      ]
     },
     "metadata": {},
     "output_type": "display_data"
    }
   ],
   "source": [
    "# Equivalent to dictionaries in python kind of\n",
    "x <- c(1,3,5,7)\n",
    "y <- setNames(x, LETTERS[1:length(x)])\n",
    "y"
   ]
  },
  {
   "cell_type": "code",
   "execution_count": 143,
   "id": "c528cfdd",
   "metadata": {},
   "outputs": [
    {
     "data": {
      "text/html": [
       "<strong>B:</strong> 3"
      ],
      "text/latex": [
       "\\textbf{B:} 3"
      ],
      "text/markdown": [
       "**B:** 3"
      ],
      "text/plain": [
       "B \n",
       "3 "
      ]
     },
     "metadata": {},
     "output_type": "display_data"
    }
   ],
   "source": [
    "y['B'] # it doesnt work with factors"
   ]
  },
  {
   "cell_type": "markdown",
   "id": "b51729aa",
   "metadata": {},
   "source": [
    "# Loops"
   ]
  },
  {
   "cell_type": "markdown",
   "id": "4984ec51",
   "metadata": {},
   "source": [
    "## if statement"
   ]
  },
  {
   "cell_type": "code",
   "execution_count": 144,
   "id": "a7ab6e91",
   "metadata": {},
   "outputs": [
    {
     "name": "stdout",
     "output_type": "stream",
     "text": [
      "[1] \"True\"\n"
     ]
    }
   ],
   "source": [
    "if (3<4) print('True')"
   ]
  },
  {
   "cell_type": "code",
   "execution_count": 145,
   "id": "e84212d4",
   "metadata": {},
   "outputs": [
    {
     "name": "stdout",
     "output_type": "stream",
     "text": [
      "[1] \"The value is greater or equal than 5\"\n"
     ]
    }
   ],
   "source": [
    "x = 8\n",
    "if (x <= 3) {\n",
    "    print('The value is less or equal than 3')\n",
    "} else if (x < 5){\n",
    "    print('The value is between 3 and 5')\n",
    "} else {\n",
    "    print('The value is greater or equal than 5')\n",
    "}"
   ]
  },
  {
   "cell_type": "markdown",
   "id": "07cd58ea",
   "metadata": {},
   "source": [
    "## ifelse\n",
    "\n",
    "If first is True, than second is the result, if it is false, then the third one is the result."
   ]
  },
  {
   "cell_type": "code",
   "execution_count": 146,
   "id": "a16a742f",
   "metadata": {},
   "outputs": [
    {
     "data": {
      "text/html": [
       "'x is smaller'"
      ],
      "text/latex": [
       "'x is smaller'"
      ],
      "text/markdown": [
       "'x is smaller'"
      ],
      "text/plain": [
       "[1] \"x is smaller\""
      ]
     },
     "metadata": {},
     "output_type": "display_data"
    }
   ],
   "source": [
    "x <- 1\n",
    "ifelse(x>3, 'x is bigger', 'x is smaller')"
   ]
  },
  {
   "cell_type": "markdown",
   "id": "71b675a7",
   "metadata": {},
   "source": [
    "## switch"
   ]
  },
  {
   "cell_type": "code",
   "execution_count": 147,
   "id": "93f083de",
   "metadata": {},
   "outputs": [
    {
     "data": {
      "text/html": [
       "'True'"
      ],
      "text/latex": [
       "'True'"
      ],
      "text/markdown": [
       "'True'"
      ],
      "text/plain": [
       "[1] \"True\""
      ]
     },
     "metadata": {},
     "output_type": "display_data"
    }
   ],
   "source": [
    "x <- 1\n",
    "switch(x, 'True', 'False')"
   ]
  },
  {
   "cell_type": "code",
   "execution_count": 148,
   "id": "b3ac467b",
   "metadata": {},
   "outputs": [
    {
     "data": {
      "text/html": [
       "'False'"
      ],
      "text/latex": [
       "'False'"
      ],
      "text/markdown": [
       "'False'"
      ],
      "text/plain": [
       "[1] \"False\""
      ]
     },
     "metadata": {},
     "output_type": "display_data"
    }
   ],
   "source": [
    "x <- 2\n",
    "switch(x, 'True', 'False')"
   ]
  },
  {
   "cell_type": "code",
   "execution_count": 149,
   "id": "a1680889",
   "metadata": {},
   "outputs": [
    {
     "data": {
      "text/html": [
       "'y is bigger'"
      ],
      "text/latex": [
       "'y is bigger'"
      ],
      "text/markdown": [
       "'y is bigger'"
      ],
      "text/plain": [
       "[1] \"y is bigger\""
      ]
     },
     "metadata": {},
     "output_type": "display_data"
    }
   ],
   "source": [
    "x <- 12\n",
    "y <- 23\n",
    "switch(as.character(sign(x-y)), '1'='x is bigger', '0'='equals', '-1'='y is bigger')"
   ]
  },
  {
   "cell_type": "markdown",
   "id": "505aee86",
   "metadata": {},
   "source": [
    "## for "
   ]
  },
  {
   "cell_type": "code",
   "execution_count": 150,
   "id": "7db1f499",
   "metadata": {},
   "outputs": [
    {
     "name": "stdout",
     "output_type": "stream",
     "text": [
      "[1] \"x is samller than 3\"\n",
      "[1] \"x is samller than 3\"\n",
      "[1] \"x is 3\"\n",
      "[1] \"x is bigger than 3\"\n",
      "[1] \"x is bigger than 3\"\n"
     ]
    }
   ],
   "source": [
    "x <- c(1,2,3,4,5)\n",
    "for (j in x) {\n",
    "    print(switch(as.character(sign(j-3)), '1'='x is bigger than 3', '0'='x is 3', '-1'='x is samller than 3'))\n",
    "}"
   ]
  },
  {
   "cell_type": "code",
   "execution_count": 151,
   "id": "bd8ef237",
   "metadata": {},
   "outputs": [
    {
     "name": "stdout",
     "output_type": "stream",
     "text": [
      "[1] \"x is samller than 3\"\n",
      "[1] \"x is samller than 3\"\n",
      "[1] \"x is 3\"\n",
      "[1] \"x is bigger than 3\"\n",
      "[1] \"x is bigger than 3\"\n"
     ]
    }
   ],
   "source": [
    "for (j in 1:5) {\n",
    "    print(switch(as.character(sign(j-3)), '1'='x is bigger than 3', '0'='x is 3', '-1'='x is samller than 3'))\n",
    "}"
   ]
  },
  {
   "cell_type": "code",
   "execution_count": 152,
   "id": "143295d7",
   "metadata": {},
   "outputs": [
    {
     "name": "stdout",
     "output_type": "stream",
     "text": [
      "[1] \"x is bigger than 3\"\n",
      "[1] \"x is bigger than 3\"\n",
      "[1] \"x is 3\"\n",
      "[1] \"x is samller than 3\"\n"
     ]
    }
   ],
   "source": [
    "for (j in 5:2) {\n",
    "    print(switch(as.character(sign(j-3)), '1'='x is bigger than 3', '0'='x is 3', '-1'='x is samller than 3'))\n",
    "}"
   ]
  },
  {
   "cell_type": "code",
   "execution_count": 153,
   "id": "82489fc4",
   "metadata": {},
   "outputs": [
    {
     "name": "stdout",
     "output_type": "stream",
     "text": [
      "[1] \"x is samller than 3\"\n",
      "[1] \"x is samller than 3\"\n",
      "[1] \"x is 3\"\n",
      "[1] \"x is bigger than 3\"\n",
      "[1] \"x is bigger than 3\"\n"
     ]
    }
   ],
   "source": [
    "for (j in seq_along(x)) {\n",
    "    print(switch(as.character(sign(x[j]-3)), '1'='x is bigger than 3', '0'='x is 3', '-1'='x is samller than 3'))\n",
    "}"
   ]
  },
  {
   "cell_type": "code",
   "execution_count": 154,
   "id": "de00e970",
   "metadata": {},
   "outputs": [
    {
     "data": {
      "text/html": [
       "<ol class=list-inline>\n",
       "\t<li>1</li>\n",
       "\t<li>2</li>\n",
       "\t<li>3</li>\n",
       "\t<li>4</li>\n",
       "</ol>\n"
      ],
      "text/latex": [
       "\\begin{enumerate*}\n",
       "\\item 1\n",
       "\\item 2\n",
       "\\item 3\n",
       "\\item 4\n",
       "\\end{enumerate*}\n"
      ],
      "text/markdown": [
       "1. 1\n",
       "2. 2\n",
       "3. 3\n",
       "4. 4\n",
       "\n",
       "\n"
      ],
      "text/plain": [
       "[1] 1 2 3 4"
      ]
     },
     "metadata": {},
     "output_type": "display_data"
    }
   ],
   "source": [
    "seq_along(c(3,5,6,7))"
   ]
  },
  {
   "cell_type": "markdown",
   "id": "e60577a2",
   "metadata": {},
   "source": [
    "## while"
   ]
  },
  {
   "cell_type": "code",
   "execution_count": 155,
   "id": "f560ab33",
   "metadata": {},
   "outputs": [
    {
     "name": "stdout",
     "output_type": "stream",
     "text": [
      "[1] \"iteration 0\"\n",
      "[1] \"iteration 1\"\n",
      "[1] \"iteration 2\"\n"
     ]
    }
   ],
   "source": [
    "i <- 0\n",
    "while (i < 3) {\n",
    "    print(paste('iteration', i))\n",
    "    i <- i+1\n",
    "}"
   ]
  },
  {
   "cell_type": "markdown",
   "id": "13227561",
   "metadata": {},
   "source": [
    "# Functions"
   ]
  },
  {
   "cell_type": "code",
   "execution_count": 156,
   "id": "8b8d07fb",
   "metadata": {},
   "outputs": [],
   "source": [
    "f <- function(x, y){\n",
    "    s <- x+y\n",
    "}\n",
    "\n",
    "f(3,2)"
   ]
  },
  {
   "cell_type": "code",
   "execution_count": 157,
   "id": "6703bf9a",
   "metadata": {},
   "outputs": [
    {
     "data": {
      "text/html": [
       "5"
      ],
      "text/latex": [
       "5"
      ],
      "text/markdown": [
       "5"
      ],
      "text/plain": [
       "[1] 5"
      ]
     },
     "metadata": {},
     "output_type": "display_data"
    }
   ],
   "source": [
    "ss <- f(3,2)\n",
    "ss"
   ]
  },
  {
   "cell_type": "code",
   "execution_count": 158,
   "id": "0ee31ba4",
   "metadata": {},
   "outputs": [
    {
     "name": "stdout",
     "output_type": "stream",
     "text": [
      "[1] 3\n"
     ]
    }
   ],
   "source": [
    "f <- function(x=1, y=2){\n",
    "    s <- x+y\n",
    "}\n",
    "\n",
    "print(f())"
   ]
  },
  {
   "cell_type": "markdown",
   "id": "2329693e",
   "metadata": {},
   "source": [
    "## APPLY functions"
   ]
  },
  {
   "cell_type": "markdown",
   "id": "57900153",
   "metadata": {},
   "source": [
    "Used to perform operations on all the elements of a complex object (vector, list, df,...). \n",
    "\n",
    "* **apply()** - matrix/array\n",
    "    * most basic\n",
    "    * margin = 1 (over rows), =2 (over columns), =c(1,2) (on rows and columns)\n",
    "* **lapply()** - lists\n",
    "    * returns a list\n",
    "* **sapply()** - vectors\n",
    "    * returns in general a vector\n",
    "    * more specific, but simplified version\n",
    "* **vapply()** can specify a return object\n",
    "* **mapply()** can use multiple arguments\n",
    "* **rapply()** can be used recursively    "
   ]
  },
  {
   "cell_type": "code",
   "execution_count": 159,
   "id": "098f340c",
   "metadata": {},
   "outputs": [
    {
     "data": {
      "text/html": [
       "<table>\n",
       "<thead><tr><th scope=col>student</th><th scope=col>grade1</th><th scope=col>grade2</th></tr></thead>\n",
       "<tbody>\n",
       "\t<tr><td>a </td><td> 3</td><td>5 </td></tr>\n",
       "\t<tr><td>b </td><td> 5</td><td>2 </td></tr>\n",
       "\t<tr><td>c </td><td> 8</td><td>4 </td></tr>\n",
       "\t<tr><td>d </td><td>10</td><td>7 </td></tr>\n",
       "\t<tr><td>e </td><td>10</td><td>9 </td></tr>\n",
       "\t<tr><td>f </td><td> 9</td><td>9 </td></tr>\n",
       "\t<tr><td>g </td><td> 2</td><td>4 </td></tr>\n",
       "\t<tr><td>h </td><td> 1</td><td>6 </td></tr>\n",
       "\t<tr><td>i </td><td> 4</td><td>3 </td></tr>\n",
       "\t<tr><td>j </td><td> 7</td><td>7 </td></tr>\n",
       "</tbody>\n",
       "</table>\n"
      ],
      "text/latex": [
       "\\begin{tabular}{r|lll}\n",
       " student & grade1 & grade2\\\\\n",
       "\\hline\n",
       "\t a  &  3 & 5 \\\\\n",
       "\t b  &  5 & 2 \\\\\n",
       "\t c  &  8 & 4 \\\\\n",
       "\t d  & 10 & 7 \\\\\n",
       "\t e  & 10 & 9 \\\\\n",
       "\t f  &  9 & 9 \\\\\n",
       "\t g  &  2 & 4 \\\\\n",
       "\t h  &  1 & 6 \\\\\n",
       "\t i  &  4 & 3 \\\\\n",
       "\t j  &  7 & 7 \\\\\n",
       "\\end{tabular}\n"
      ],
      "text/markdown": [
       "\n",
       "| student | grade1 | grade2 |\n",
       "|---|---|---|\n",
       "| a  |  3 | 5  |\n",
       "| b  |  5 | 2  |\n",
       "| c  |  8 | 4  |\n",
       "| d  | 10 | 7  |\n",
       "| e  | 10 | 9  |\n",
       "| f  |  9 | 9  |\n",
       "| g  |  2 | 4  |\n",
       "| h  |  1 | 6  |\n",
       "| i  |  4 | 3  |\n",
       "| j  |  7 | 7  |\n",
       "\n"
      ],
      "text/plain": [
       "   student grade1 grade2\n",
       "1  a        3     5     \n",
       "2  b        5     2     \n",
       "3  c        8     4     \n",
       "4  d       10     7     \n",
       "5  e       10     9     \n",
       "6  f        9     9     \n",
       "7  g        2     4     \n",
       "8  h        1     6     \n",
       "9  i        4     3     \n",
       "10 j        7     7     "
      ]
     },
     "metadata": {},
     "output_type": "display_data"
    },
    {
     "name": "stdout",
     "output_type": "stream",
     "text": [
      "'data.frame':\t10 obs. of  3 variables:\n",
      " $ student: Factor w/ 10 levels \"a\",\"b\",\"c\",\"d\",..: 1 2 3 4 5 6 7 8 9 10\n",
      " $ grade1 : num  3 5 8 10 10 9 2 1 4 7\n",
      " $ grade2 : num  5 2 4 7 9 9 4 6 3 7\n"
     ]
    }
   ],
   "source": [
    "grade1 <- c(3, 5, 8, 10, 10, 9, 2, 1, 4, 7)\n",
    "grade2 <- c(5, 2, 4,7, 9, 9, 4, 6, 3, 7)\n",
    "student <- letters[1:length(grade1)]\n",
    "df.class <- data.frame(student, grade1, grade2)\n",
    "df.class\n",
    "\n",
    "str(df.class)"
   ]
  },
  {
   "cell_type": "code",
   "execution_count": 160,
   "id": "0dd8428d",
   "metadata": {},
   "outputs": [
    {
     "data": {
      "text/html": [
       "<dl class=dl-horizontal>\n",
       "\t<dt>grade1</dt>\n",
       "\t\t<dd>5.9</dd>\n",
       "\t<dt>grade2</dt>\n",
       "\t\t<dd>5.6</dd>\n",
       "</dl>\n"
      ],
      "text/latex": [
       "\\begin{description*}\n",
       "\\item[grade1] 5.9\n",
       "\\item[grade2] 5.6\n",
       "\\end{description*}\n"
      ],
      "text/markdown": [
       "grade1\n",
       ":   5.9grade2\n",
       ":   5.6\n",
       "\n"
      ],
      "text/plain": [
       "grade1 grade2 \n",
       "   5.9    5.6 "
      ]
     },
     "metadata": {},
     "output_type": "display_data"
    }
   ],
   "source": [
    "grade.avg <- apply(X = df.class[,2:3], MARGIN = 2, FUN = mean)\n",
    "grade.avg"
   ]
  },
  {
   "cell_type": "code",
   "execution_count": 161,
   "id": "ed8ac0e4",
   "metadata": {},
   "outputs": [
    {
     "data": {
      "text/html": [
       "<dl>\n",
       "\t<dt>$height</dt>\n",
       "\t\t<dd>14.1596950655803</dd>\n",
       "\t<dt>$mass</dt>\n",
       "\t\t<dd>7.91295859217644</dd>\n",
       "\t<dt>$flowers</dt>\n",
       "\t\t<dd>5.5</dd>\n",
       "</dl>\n"
      ],
      "text/latex": [
       "\\begin{description}\n",
       "\\item[\\$height] 14.1596950655803\n",
       "\\item[\\$mass] 7.91295859217644\n",
       "\\item[\\$flowers] 5.5\n",
       "\\end{description}\n"
      ],
      "text/markdown": [
       "$height\n",
       ":   14.1596950655803\n",
       "$mass\n",
       ":   7.91295859217644\n",
       "$flowers\n",
       ":   5.5\n",
       "\n",
       "\n"
      ],
      "text/plain": [
       "$height\n",
       "[1] 14.1597\n",
       "\n",
       "$mass\n",
       "[1] 7.912959\n",
       "\n",
       "$flowers\n",
       "[1] 5.5\n"
      ]
     },
     "metadata": {},
     "output_type": "display_data"
    }
   ],
   "source": [
    "plants <- list (height = runif(10, min = 10, max = 20) ,\n",
    "                mass = runif(10, min = 5, max = 10),\n",
    "                flowers = sample(1:10, 10))\n",
    "\n",
    "means <- lapply(plants, mean)\n",
    "means"
   ]
  },
  {
   "cell_type": "code",
   "execution_count": 162,
   "id": "10c237df",
   "metadata": {},
   "outputs": [
    {
     "data": {
      "text/html": [
       "<ol class=list-inline>\n",
       "\t<li>14.1596950655803</li>\n",
       "\t<li>7.91295859217644</li>\n",
       "\t<li>5.5</li>\n",
       "</ol>\n"
      ],
      "text/latex": [
       "\\begin{enumerate*}\n",
       "\\item 14.1596950655803\n",
       "\\item 7.91295859217644\n",
       "\\item 5.5\n",
       "\\end{enumerate*}\n"
      ],
      "text/markdown": [
       "1. 14.1596950655803\n",
       "2. 7.91295859217644\n",
       "3. 5.5\n",
       "\n",
       "\n"
      ],
      "text/plain": [
       "[1] 14.159695  7.912959  5.500000"
      ]
     },
     "metadata": {},
     "output_type": "display_data"
    }
   ],
   "source": [
    "unname(unlist(means))"
   ]
  },
  {
   "cell_type": "code",
   "execution_count": 163,
   "id": "957be6ae",
   "metadata": {},
   "outputs": [
    {
     "data": {
      "text/html": [
       "<table>\n",
       "<tbody>\n",
       "\t<tr><td>  2</td><td>  6</td><td> 12</td><td> 20</td></tr>\n",
       "\t<tr><td> 30</td><td> 42</td><td> 56</td><td> 72</td></tr>\n",
       "\t<tr><td> 90</td><td>110</td><td>132</td><td>156</td></tr>\n",
       "\t<tr><td>182</td><td>210</td><td>240</td><td>272</td></tr>\n",
       "\t<tr><td>306</td><td>342</td><td>380</td><td>420</td></tr>\n",
       "</tbody>\n",
       "</table>\n"
      ],
      "text/latex": [
       "\\begin{tabular}{llll}\n",
       "\t   2 &   6 &  12 &  20\\\\\n",
       "\t  30 &  42 &  56 &  72\\\\\n",
       "\t  90 & 110 & 132 & 156\\\\\n",
       "\t 182 & 210 & 240 & 272\\\\\n",
       "\t 306 & 342 & 380 & 420\\\\\n",
       "\\end{tabular}\n"
      ],
      "text/markdown": [
       "\n",
       "|   2 |   6 |  12 |  20 |\n",
       "|  30 |  42 |  56 |  72 |\n",
       "|  90 | 110 | 132 | 156 |\n",
       "| 182 | 210 | 240 | 272 |\n",
       "| 306 | 342 | 380 | 420 |\n",
       "\n"
      ],
      "text/plain": [
       "     [,1] [,2] [,3] [,4]\n",
       "[1,]   2    6   12   20 \n",
       "[2,]  30   42   56   72 \n",
       "[3,]  90  110  132  156 \n",
       "[4,] 182  210  240  272 \n",
       "[5,] 306  342  380  420 "
      ]
     },
     "metadata": {},
     "output_type": "display_data"
    }
   ],
   "source": [
    "M <- matrix(c(1:20), nrow=4)\n",
    "apply(M, 1, function(x) x^2+ x) #this is an anonymoun function"
   ]
  },
  {
   "cell_type": "code",
   "execution_count": 164,
   "id": "6b779238",
   "metadata": {},
   "outputs": [
    {
     "data": {
      "text/html": [
       "<ol>\n",
       "\t<li><ol class=list-inline>\n",
       "\t<li>1</li>\n",
       "\t<li>2</li>\n",
       "\t<li>3</li>\n",
       "</ol>\n",
       "</li>\n",
       "\t<li><ol class=list-inline>\n",
       "\t<li>1</li>\n",
       "\t<li>2</li>\n",
       "\t<li>3</li>\n",
       "\t<li>4</li>\n",
       "</ol>\n",
       "</li>\n",
       "\t<li><ol class=list-inline>\n",
       "\t<li>1</li>\n",
       "\t<li>2</li>\n",
       "\t<li>3</li>\n",
       "\t<li>4</li>\n",
       "\t<li>5</li>\n",
       "</ol>\n",
       "</li>\n",
       "\t<li><ol class=list-inline>\n",
       "\t<li>1</li>\n",
       "\t<li>2</li>\n",
       "\t<li>3</li>\n",
       "\t<li>4</li>\n",
       "\t<li>5</li>\n",
       "\t<li>6</li>\n",
       "</ol>\n",
       "</li>\n",
       "</ol>\n"
      ],
      "text/latex": [
       "\\begin{enumerate}\n",
       "\\item \\begin{enumerate*}\n",
       "\\item 1\n",
       "\\item 2\n",
       "\\item 3\n",
       "\\end{enumerate*}\n",
       "\n",
       "\\item \\begin{enumerate*}\n",
       "\\item 1\n",
       "\\item 2\n",
       "\\item 3\n",
       "\\item 4\n",
       "\\end{enumerate*}\n",
       "\n",
       "\\item \\begin{enumerate*}\n",
       "\\item 1\n",
       "\\item 2\n",
       "\\item 3\n",
       "\\item 4\n",
       "\\item 5\n",
       "\\end{enumerate*}\n",
       "\n",
       "\\item \\begin{enumerate*}\n",
       "\\item 1\n",
       "\\item 2\n",
       "\\item 3\n",
       "\\item 4\n",
       "\\item 5\n",
       "\\item 6\n",
       "\\end{enumerate*}\n",
       "\n",
       "\\end{enumerate}\n"
      ],
      "text/markdown": [
       "1. 1. 1\n",
       "2. 2\n",
       "3. 3\n",
       "\n",
       "\n",
       "\n",
       "2. 1. 1\n",
       "2. 2\n",
       "3. 3\n",
       "4. 4\n",
       "\n",
       "\n",
       "\n",
       "3. 1. 1\n",
       "2. 2\n",
       "3. 3\n",
       "4. 4\n",
       "5. 5\n",
       "\n",
       "\n",
       "\n",
       "4. 1. 1\n",
       "2. 2\n",
       "3. 3\n",
       "4. 4\n",
       "5. 5\n",
       "6. 6\n",
       "\n",
       "\n",
       "\n",
       "\n",
       "\n"
      ],
      "text/plain": [
       "[[1]]\n",
       "[1] 1 2 3\n",
       "\n",
       "[[2]]\n",
       "[1] 1 2 3 4\n",
       "\n",
       "[[3]]\n",
       "[1] 1 2 3 4 5\n",
       "\n",
       "[[4]]\n",
       "[1] 1 2 3 4 5 6\n"
      ]
     },
     "metadata": {},
     "output_type": "display_data"
    }
   ],
   "source": [
    "sapply(3:6, seq) #Generates a list of sequences"
   ]
  },
  {
   "cell_type": "code",
   "execution_count": 165,
   "id": "35ee04f3",
   "metadata": {},
   "outputs": [
    {
     "data": {
      "text/html": [
       "<ol class=list-inline>\n",
       "\t<li>2</li>\n",
       "\t<li>6</li>\n",
       "\t<li>12</li>\n",
       "\t<li>20</li>\n",
       "</ol>\n"
      ],
      "text/latex": [
       "\\begin{enumerate*}\n",
       "\\item 2\n",
       "\\item 6\n",
       "\\item 12\n",
       "\\item 20\n",
       "\\end{enumerate*}\n"
      ],
      "text/markdown": [
       "1. 2\n",
       "2. 6\n",
       "3. 12\n",
       "4. 20\n",
       "\n",
       "\n"
      ],
      "text/plain": [
       "[1]  2  6 12 20"
      ]
     },
     "metadata": {},
     "output_type": "display_data"
    }
   ],
   "source": [
    "sapply(1:4, function(x) x^2+ x)"
   ]
  },
  {
   "cell_type": "code",
   "execution_count": null,
   "id": "ed8cda9e",
   "metadata": {},
   "outputs": [],
   "source": []
  }
 ],
 "metadata": {
  "kernelspec": {
   "display_name": "R",
   "language": "R",
   "name": "ir"
  },
  "language_info": {
   "codemirror_mode": "r",
   "file_extension": ".r",
   "mimetype": "text/x-r-source",
   "name": "R",
   "pygments_lexer": "r",
   "version": "3.6.1"
  }
 },
 "nbformat": 4,
 "nbformat_minor": 5
}
